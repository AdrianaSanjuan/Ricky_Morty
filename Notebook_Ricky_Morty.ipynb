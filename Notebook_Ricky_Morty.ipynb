{
  "cells": [
    {
      "cell_type": "code",
      "execution_count": 1,
      "metadata": {
        "id": "78vA_jb8zW0h"
      },
      "outputs": [],
      "source": [
        "import requests \n",
        "import os\n",
        "import pandas as pd\n",
        "import numpy as np"
      ]
    },
    {
      "cell_type": "code",
      "execution_count": 2,
      "metadata": {
        "id": "SQ7DdDynzpF3"
      },
      "outputs": [],
      "source": [
        "base_url = \"https://rickandmortyapi.com/api/character\""
      ]
    },
    {
      "cell_type": "markdown",
      "metadata": {},
      "source": [
        "##### Comprobamos la API"
      ]
    },
    {
      "cell_type": "code",
      "execution_count": 3,
      "metadata": {},
      "outputs": [
        {
          "name": "stdout",
          "output_type": "stream",
          "text": [
            "Request 200 : 'OK'\n"
          ]
        }
      ],
      "source": [
        "# Realización de la petición GET\n",
        "respuesta = requests.get(base_url)  \n",
        "\n",
        "# Imprimimos el código de estado en la respuesta (response)\n",
        "print(f\"Request {respuesta.status_code} : '{respuesta.reason}'\")"
      ]
    },
    {
      "cell_type": "markdown",
      "metadata": {},
      "source": [
        "##### Obtenemos los datos y los convertimos a JSON."
      ]
    },
    {
      "cell_type": "code",
      "execution_count": 4,
      "metadata": {},
      "outputs": [
        {
          "name": "stdout",
          "output_type": "stream",
          "text": [
            "{'info': {'count': 826,\n",
            "          'next': 'https://rickandmortyapi.com/api/character?page=2',\n",
            "          'pages': 42,\n",
            "          'prev': None},\n",
            " 'results': [{'created': '2017-11-04T18:48:46.250Z',\n",
            "              'episode': ['https://rickandmortyapi.com/api/episode/1',\n",
            "                          'https://rickandmortyapi.com/api/episode/2',\n",
            "                          'https://rickandmortyapi.com/api/episode/3',\n",
            "                          'https://rickandmortyapi.com/api/episode/4',\n",
            "                          'https://rickandmortyapi.com/api/episode/5',\n",
            "                          'https://rickandmortyapi.com/api/episode/6',\n",
            "                          'https://rickandmortyapi.com/api/episode/7',\n",
            "                          'https://rickandmortyapi.com/api/episode/8',\n",
            "                          'https://rickandmortyapi.com/api/episode/9',\n",
            "                          'https://rickandmortyapi.com/api/episode/10',\n",
            "                          'https://rickandmortyapi.com/api/episode/11',\n",
            "                          'https://rickandmortyapi.com/api/episode/12',\n",
            "                          'https://rickandmortyapi.com/api/episode/13',\n",
            "                          'https://rickandmortyapi.com/api/episode/14',\n",
            "                          'https://rickandmortyapi.com/api/episode/15',\n",
            "                          'https://rickandmortyapi.com/api/episode/16',\n",
            "                          'https://rickandmortyapi.com/api/episode/17',\n",
            "                          'https://rickandmortyapi.com/api/episode/18',\n",
            "                          'https://rickandmortyapi.com/api/episode/19',\n",
            "                          'https://rickandmortyapi.com/api/episode/20',\n",
            "                          'https://rickandmortyapi.com/api/episode/21',\n",
            "                          'https://rickandmortyapi.com/api/episode/22',\n",
            "                          'https://rickandmortyapi.com/api/episode/23',\n",
            "                          'https://rickandmortyapi.com/api/episode/24',\n",
            "                          'https://rickandmortyapi.com/api/episode/25',\n",
            "                          'https://rickandmortyapi.com/api/episode/26',\n",
            "                          'https://rickandmortyapi.com/api/episode/27',\n",
            "                          'https://rickandmortyapi.com/api/episode/28',\n",
            "                          'https://rickandmortyapi.com/api/episode/29',\n",
            "                          'https://rickandmortyapi.com/api/episode/30',\n",
            "                          'https://rickandmortyapi.com/api/episode/31',\n",
            "                          'https://rickandmortyapi.com/api/episode/32',\n",
            "                          'https://rickandmortyapi.com/api/episode/33',\n",
            "                          'https://rickandmortyapi.com/api/episode/34',\n",
            "                          'https://rickandmortyapi.com/api/episode/35',\n",
            "                          'https://rickandmortyapi.com/api/episode/36',\n",
            "                          'https://rickandmortyapi.com/api/episode/37',\n",
            "                          'https://rickandmortyapi.com/api/episode/38',\n",
            "                          'https://rickandmortyapi.com/api/episode/39',\n",
            "                          'https://rickandmortyapi.com/api/episode/40',\n",
            "                          'https://rickandmortyapi.com/api/episode/41',\n",
            "                          'https://rickandmortyapi.com/api/episode/42',\n",
            "                          'https://rickandmortyapi.com/api/episode/43',\n",
            "                          'https://rickandmortyapi.com/api/episode/44',\n",
            "                          'https://rickandmortyapi.com/api/episode/45',\n",
            "                          'https://rickandmortyapi.com/api/episode/46',\n",
            "                          'https://rickandmortyapi.com/api/episode/47',\n",
            "                          'https://rickandmortyapi.com/api/episode/48',\n",
            "                          'https://rickandmortyapi.com/api/episode/49',\n",
            "                          'https://rickandmortyapi.com/api/episode/50',\n",
            "                          'https://rickandmortyapi.com/api/episode/51'],\n",
            "              'gender': 'Male',\n",
            "              'id': 1,\n",
            "              'image': 'https://rickandmortyapi.com/api/character/avatar/1.jpeg',\n",
            "              'location': {'name': 'Citadel of Ricks',\n",
            "                           'url': 'https://rickandmortyapi.com/api/location/3'},\n",
            "              'name': 'Rick Sanchez',\n",
            "              'origin': {'name': 'Earth (C-137)',\n",
            "                         'url': 'https://rickandmortyapi.com/api/location/1'},\n",
            "              'species': 'Human',\n",
            "              'status': 'Alive',\n",
            "              'type': '',\n",
            "              'url': 'https://rickandmortyapi.com/api/character/1'},\n",
            "             {'created': '2017-11-04T18:50:21.651Z',\n",
            "              'episode': ['https://rickandmortyapi.com/api/episode/1',\n",
            "                          'https://rickandmortyapi.com/api/episode/2',\n",
            "                          'https://rickandmortyapi.com/api/episode/3',\n",
            "                          'https://rickandmortyapi.com/api/episode/4',\n",
            "                          'https://rickandmortyapi.com/api/episode/5',\n",
            "                          'https://rickandmortyapi.com/api/episode/6',\n",
            "                          'https://rickandmortyapi.com/api/episode/7',\n",
            "                          'https://rickandmortyapi.com/api/episode/8',\n",
            "                          'https://rickandmortyapi.com/api/episode/9',\n",
            "                          'https://rickandmortyapi.com/api/episode/10',\n",
            "                          'https://rickandmortyapi.com/api/episode/11',\n",
            "                          'https://rickandmortyapi.com/api/episode/12',\n",
            "                          'https://rickandmortyapi.com/api/episode/13',\n",
            "                          'https://rickandmortyapi.com/api/episode/14',\n",
            "                          'https://rickandmortyapi.com/api/episode/15',\n",
            "                          'https://rickandmortyapi.com/api/episode/16',\n",
            "                          'https://rickandmortyapi.com/api/episode/17',\n",
            "                          'https://rickandmortyapi.com/api/episode/18',\n",
            "                          'https://rickandmortyapi.com/api/episode/19',\n",
            "                          'https://rickandmortyapi.com/api/episode/20',\n",
            "                          'https://rickandmortyapi.com/api/episode/21',\n",
            "                          'https://rickandmortyapi.com/api/episode/22',\n",
            "                          'https://rickandmortyapi.com/api/episode/23',\n",
            "                          'https://rickandmortyapi.com/api/episode/24',\n",
            "                          'https://rickandmortyapi.com/api/episode/25',\n",
            "                          'https://rickandmortyapi.com/api/episode/26',\n",
            "                          'https://rickandmortyapi.com/api/episode/27',\n",
            "                          'https://rickandmortyapi.com/api/episode/28',\n",
            "                          'https://rickandmortyapi.com/api/episode/29',\n",
            "                          'https://rickandmortyapi.com/api/episode/30',\n",
            "                          'https://rickandmortyapi.com/api/episode/31',\n",
            "                          'https://rickandmortyapi.com/api/episode/32',\n",
            "                          'https://rickandmortyapi.com/api/episode/33',\n",
            "                          'https://rickandmortyapi.com/api/episode/34',\n",
            "                          'https://rickandmortyapi.com/api/episode/35',\n",
            "                          'https://rickandmortyapi.com/api/episode/36',\n",
            "                          'https://rickandmortyapi.com/api/episode/37',\n",
            "                          'https://rickandmortyapi.com/api/episode/38',\n",
            "                          'https://rickandmortyapi.com/api/episode/39',\n",
            "                          'https://rickandmortyapi.com/api/episode/40',\n",
            "                          'https://rickandmortyapi.com/api/episode/41',\n",
            "                          'https://rickandmortyapi.com/api/episode/42',\n",
            "                          'https://rickandmortyapi.com/api/episode/43',\n",
            "                          'https://rickandmortyapi.com/api/episode/44',\n",
            "                          'https://rickandmortyapi.com/api/episode/45',\n",
            "                          'https://rickandmortyapi.com/api/episode/46',\n",
            "                          'https://rickandmortyapi.com/api/episode/47',\n",
            "                          'https://rickandmortyapi.com/api/episode/48',\n",
            "                          'https://rickandmortyapi.com/api/episode/49',\n",
            "                          'https://rickandmortyapi.com/api/episode/50',\n",
            "                          'https://rickandmortyapi.com/api/episode/51'],\n",
            "              'gender': 'Male',\n",
            "              'id': 2,\n",
            "              'image': 'https://rickandmortyapi.com/api/character/avatar/2.jpeg',\n",
            "              'location': {'name': 'Citadel of Ricks',\n",
            "                           'url': 'https://rickandmortyapi.com/api/location/3'},\n",
            "              'name': 'Morty Smith',\n",
            "              'origin': {'name': 'unknown', 'url': ''},\n",
            "              'species': 'Human',\n",
            "              'status': 'Alive',\n",
            "              'type': '',\n",
            "              'url': 'https://rickandmortyapi.com/api/character/2'},\n",
            "             {'created': '2017-11-04T19:09:56.428Z',\n",
            "              'episode': ['https://rickandmortyapi.com/api/episode/6',\n",
            "                          'https://rickandmortyapi.com/api/episode/7',\n",
            "                          'https://rickandmortyapi.com/api/episode/8',\n",
            "                          'https://rickandmortyapi.com/api/episode/9',\n",
            "                          'https://rickandmortyapi.com/api/episode/10',\n",
            "                          'https://rickandmortyapi.com/api/episode/11',\n",
            "                          'https://rickandmortyapi.com/api/episode/12',\n",
            "                          'https://rickandmortyapi.com/api/episode/14',\n",
            "                          'https://rickandmortyapi.com/api/episode/15',\n",
            "                          'https://rickandmortyapi.com/api/episode/16',\n",
            "                          'https://rickandmortyapi.com/api/episode/17',\n",
            "                          'https://rickandmortyapi.com/api/episode/18',\n",
            "                          'https://rickandmortyapi.com/api/episode/19',\n",
            "                          'https://rickandmortyapi.com/api/episode/20',\n",
            "                          'https://rickandmortyapi.com/api/episode/21',\n",
            "                          'https://rickandmortyapi.com/api/episode/22',\n",
            "                          'https://rickandmortyapi.com/api/episode/23',\n",
            "                          'https://rickandmortyapi.com/api/episode/24',\n",
            "                          'https://rickandmortyapi.com/api/episode/25',\n",
            "                          'https://rickandmortyapi.com/api/episode/26',\n",
            "                          'https://rickandmortyapi.com/api/episode/27',\n",
            "                          'https://rickandmortyapi.com/api/episode/29',\n",
            "                          'https://rickandmortyapi.com/api/episode/30',\n",
            "                          'https://rickandmortyapi.com/api/episode/31',\n",
            "                          'https://rickandmortyapi.com/api/episode/32',\n",
            "                          'https://rickandmortyapi.com/api/episode/33',\n",
            "                          'https://rickandmortyapi.com/api/episode/34',\n",
            "                          'https://rickandmortyapi.com/api/episode/35',\n",
            "                          'https://rickandmortyapi.com/api/episode/36',\n",
            "                          'https://rickandmortyapi.com/api/episode/38',\n",
            "                          'https://rickandmortyapi.com/api/episode/39',\n",
            "                          'https://rickandmortyapi.com/api/episode/40',\n",
            "                          'https://rickandmortyapi.com/api/episode/41',\n",
            "                          'https://rickandmortyapi.com/api/episode/42',\n",
            "                          'https://rickandmortyapi.com/api/episode/43',\n",
            "                          'https://rickandmortyapi.com/api/episode/44',\n",
            "                          'https://rickandmortyapi.com/api/episode/45',\n",
            "                          'https://rickandmortyapi.com/api/episode/46',\n",
            "                          'https://rickandmortyapi.com/api/episode/47',\n",
            "                          'https://rickandmortyapi.com/api/episode/48',\n",
            "                          'https://rickandmortyapi.com/api/episode/49',\n",
            "                          'https://rickandmortyapi.com/api/episode/51'],\n",
            "              'gender': 'Female',\n",
            "              'id': 3,\n",
            "              'image': 'https://rickandmortyapi.com/api/character/avatar/3.jpeg',\n",
            "              'location': {'name': 'Earth (Replacement Dimension)',\n",
            "                           'url': 'https://rickandmortyapi.com/api/location/20'},\n",
            "              'name': 'Summer Smith',\n",
            "              'origin': {'name': 'Earth (Replacement Dimension)',\n",
            "                         'url': 'https://rickandmortyapi.com/api/location/20'},\n",
            "              'species': 'Human',\n",
            "              'status': 'Alive',\n",
            "              'type': '',\n",
            "              'url': 'https://rickandmortyapi.com/api/character/3'},\n",
            "             {'created': '2017-11-04T19:22:43.665Z',\n",
            "              'episode': ['https://rickandmortyapi.com/api/episode/6',\n",
            "                          'https://rickandmortyapi.com/api/episode/7',\n",
            "                          'https://rickandmortyapi.com/api/episode/8',\n",
            "                          'https://rickandmortyapi.com/api/episode/9',\n",
            "                          'https://rickandmortyapi.com/api/episode/10',\n",
            "                          'https://rickandmortyapi.com/api/episode/11',\n",
            "                          'https://rickandmortyapi.com/api/episode/12',\n",
            "                          'https://rickandmortyapi.com/api/episode/14',\n",
            "                          'https://rickandmortyapi.com/api/episode/15',\n",
            "                          'https://rickandmortyapi.com/api/episode/16',\n",
            "                          'https://rickandmortyapi.com/api/episode/18',\n",
            "                          'https://rickandmortyapi.com/api/episode/19',\n",
            "                          'https://rickandmortyapi.com/api/episode/20',\n",
            "                          'https://rickandmortyapi.com/api/episode/21',\n",
            "                          'https://rickandmortyapi.com/api/episode/22',\n",
            "                          'https://rickandmortyapi.com/api/episode/23',\n",
            "                          'https://rickandmortyapi.com/api/episode/24',\n",
            "                          'https://rickandmortyapi.com/api/episode/25',\n",
            "                          'https://rickandmortyapi.com/api/episode/26',\n",
            "                          'https://rickandmortyapi.com/api/episode/27',\n",
            "                          'https://rickandmortyapi.com/api/episode/28',\n",
            "                          'https://rickandmortyapi.com/api/episode/29',\n",
            "                          'https://rickandmortyapi.com/api/episode/30',\n",
            "                          'https://rickandmortyapi.com/api/episode/31',\n",
            "                          'https://rickandmortyapi.com/api/episode/32',\n",
            "                          'https://rickandmortyapi.com/api/episode/33',\n",
            "                          'https://rickandmortyapi.com/api/episode/34',\n",
            "                          'https://rickandmortyapi.com/api/episode/35',\n",
            "                          'https://rickandmortyapi.com/api/episode/36',\n",
            "                          'https://rickandmortyapi.com/api/episode/38',\n",
            "                          'https://rickandmortyapi.com/api/episode/39',\n",
            "                          'https://rickandmortyapi.com/api/episode/40',\n",
            "                          'https://rickandmortyapi.com/api/episode/41',\n",
            "                          'https://rickandmortyapi.com/api/episode/42',\n",
            "                          'https://rickandmortyapi.com/api/episode/43',\n",
            "                          'https://rickandmortyapi.com/api/episode/44',\n",
            "                          'https://rickandmortyapi.com/api/episode/45',\n",
            "                          'https://rickandmortyapi.com/api/episode/46',\n",
            "                          'https://rickandmortyapi.com/api/episode/47',\n",
            "                          'https://rickandmortyapi.com/api/episode/48',\n",
            "                          'https://rickandmortyapi.com/api/episode/49',\n",
            "                          'https://rickandmortyapi.com/api/episode/51'],\n",
            "              'gender': 'Female',\n",
            "              'id': 4,\n",
            "              'image': 'https://rickandmortyapi.com/api/character/avatar/4.jpeg',\n",
            "              'location': {'name': 'Earth (Replacement Dimension)',\n",
            "                           'url': 'https://rickandmortyapi.com/api/location/20'},\n",
            "              'name': 'Beth Smith',\n",
            "              'origin': {'name': 'Earth (Replacement Dimension)',\n",
            "                         'url': 'https://rickandmortyapi.com/api/location/20'},\n",
            "              'species': 'Human',\n",
            "              'status': 'Alive',\n",
            "              'type': '',\n",
            "              'url': 'https://rickandmortyapi.com/api/character/4'},\n",
            "             {'created': '2017-11-04T19:26:56.301Z',\n",
            "              'episode': ['https://rickandmortyapi.com/api/episode/6',\n",
            "                          'https://rickandmortyapi.com/api/episode/7',\n",
            "                          'https://rickandmortyapi.com/api/episode/8',\n",
            "                          'https://rickandmortyapi.com/api/episode/9',\n",
            "                          'https://rickandmortyapi.com/api/episode/10',\n",
            "                          'https://rickandmortyapi.com/api/episode/11',\n",
            "                          'https://rickandmortyapi.com/api/episode/12',\n",
            "                          'https://rickandmortyapi.com/api/episode/13',\n",
            "                          'https://rickandmortyapi.com/api/episode/14',\n",
            "                          'https://rickandmortyapi.com/api/episode/15',\n",
            "                          'https://rickandmortyapi.com/api/episode/16',\n",
            "                          'https://rickandmortyapi.com/api/episode/18',\n",
            "                          'https://rickandmortyapi.com/api/episode/19',\n",
            "                          'https://rickandmortyapi.com/api/episode/20',\n",
            "                          'https://rickandmortyapi.com/api/episode/21',\n",
            "                          'https://rickandmortyapi.com/api/episode/22',\n",
            "                          'https://rickandmortyapi.com/api/episode/23',\n",
            "                          'https://rickandmortyapi.com/api/episode/26',\n",
            "                          'https://rickandmortyapi.com/api/episode/29',\n",
            "                          'https://rickandmortyapi.com/api/episode/30',\n",
            "                          'https://rickandmortyapi.com/api/episode/31',\n",
            "                          'https://rickandmortyapi.com/api/episode/32',\n",
            "                          'https://rickandmortyapi.com/api/episode/33',\n",
            "                          'https://rickandmortyapi.com/api/episode/35',\n",
            "                          'https://rickandmortyapi.com/api/episode/36',\n",
            "                          'https://rickandmortyapi.com/api/episode/38',\n",
            "                          'https://rickandmortyapi.com/api/episode/39',\n",
            "                          'https://rickandmortyapi.com/api/episode/40',\n",
            "                          'https://rickandmortyapi.com/api/episode/41',\n",
            "                          'https://rickandmortyapi.com/api/episode/42',\n",
            "                          'https://rickandmortyapi.com/api/episode/43',\n",
            "                          'https://rickandmortyapi.com/api/episode/44',\n",
            "                          'https://rickandmortyapi.com/api/episode/45',\n",
            "                          'https://rickandmortyapi.com/api/episode/46',\n",
            "                          'https://rickandmortyapi.com/api/episode/47',\n",
            "                          'https://rickandmortyapi.com/api/episode/48',\n",
            "                          'https://rickandmortyapi.com/api/episode/49',\n",
            "                          'https://rickandmortyapi.com/api/episode/50',\n",
            "                          'https://rickandmortyapi.com/api/episode/51'],\n",
            "              'gender': 'Male',\n",
            "              'id': 5,\n",
            "              'image': 'https://rickandmortyapi.com/api/character/avatar/5.jpeg',\n",
            "              'location': {'name': 'Earth (Replacement Dimension)',\n",
            "                           'url': 'https://rickandmortyapi.com/api/location/20'},\n",
            "              'name': 'Jerry Smith',\n",
            "              'origin': {'name': 'Earth (Replacement Dimension)',\n",
            "                         'url': 'https://rickandmortyapi.com/api/location/20'},\n",
            "              'species': 'Human',\n",
            "              'status': 'Alive',\n",
            "              'type': '',\n",
            "              'url': 'https://rickandmortyapi.com/api/character/5'},\n",
            "             {'created': '2017-11-04T19:50:28.250Z',\n",
            "              'episode': ['https://rickandmortyapi.com/api/episode/27'],\n",
            "              'gender': 'Female',\n",
            "              'id': 6,\n",
            "              'image': 'https://rickandmortyapi.com/api/character/avatar/6.jpeg',\n",
            "              'location': {'name': 'Abadango',\n",
            "                           'url': 'https://rickandmortyapi.com/api/location/2'},\n",
            "              'name': 'Abadango Cluster Princess',\n",
            "              'origin': {'name': 'Abadango',\n",
            "                         'url': 'https://rickandmortyapi.com/api/location/2'},\n",
            "              'species': 'Alien',\n",
            "              'status': 'Alive',\n",
            "              'type': '',\n",
            "              'url': 'https://rickandmortyapi.com/api/character/6'},\n",
            "             {'created': '2017-11-04T19:59:20.523Z',\n",
            "              'episode': ['https://rickandmortyapi.com/api/episode/10',\n",
            "                          'https://rickandmortyapi.com/api/episode/11'],\n",
            "              'gender': 'Male',\n",
            "              'id': 7,\n",
            "              'image': 'https://rickandmortyapi.com/api/character/avatar/7.jpeg',\n",
            "              'location': {'name': 'Testicle Monster Dimension',\n",
            "                           'url': 'https://rickandmortyapi.com/api/location/21'},\n",
            "              'name': 'Abradolf Lincler',\n",
            "              'origin': {'name': 'Earth (Replacement Dimension)',\n",
            "                         'url': 'https://rickandmortyapi.com/api/location/20'},\n",
            "              'species': 'Human',\n",
            "              'status': 'unknown',\n",
            "              'type': 'Genetic experiment',\n",
            "              'url': 'https://rickandmortyapi.com/api/character/7'},\n",
            "             {'created': '2017-11-04T20:03:34.737Z',\n",
            "              'episode': ['https://rickandmortyapi.com/api/episode/28'],\n",
            "              'gender': 'Male',\n",
            "              'id': 8,\n",
            "              'image': 'https://rickandmortyapi.com/api/character/avatar/8.jpeg',\n",
            "              'location': {'name': 'Citadel of Ricks',\n",
            "                           'url': 'https://rickandmortyapi.com/api/location/3'},\n",
            "              'name': 'Adjudicator Rick',\n",
            "              'origin': {'name': 'unknown', 'url': ''},\n",
            "              'species': 'Human',\n",
            "              'status': 'Dead',\n",
            "              'type': '',\n",
            "              'url': 'https://rickandmortyapi.com/api/character/8'},\n",
            "             {'created': '2017-11-04T20:06:54.976Z',\n",
            "              'episode': ['https://rickandmortyapi.com/api/episode/24'],\n",
            "              'gender': 'Male',\n",
            "              'id': 9,\n",
            "              'image': 'https://rickandmortyapi.com/api/character/avatar/9.jpeg',\n",
            "              'location': {'name': 'Earth (Replacement Dimension)',\n",
            "                           'url': 'https://rickandmortyapi.com/api/location/20'},\n",
            "              'name': 'Agency Director',\n",
            "              'origin': {'name': 'Earth (Replacement Dimension)',\n",
            "                         'url': 'https://rickandmortyapi.com/api/location/20'},\n",
            "              'species': 'Human',\n",
            "              'status': 'Dead',\n",
            "              'type': '',\n",
            "              'url': 'https://rickandmortyapi.com/api/character/9'},\n",
            "             {'created': '2017-11-04T20:19:09.017Z',\n",
            "              'episode': ['https://rickandmortyapi.com/api/episode/25'],\n",
            "              'gender': 'Male',\n",
            "              'id': 10,\n",
            "              'image': 'https://rickandmortyapi.com/api/character/avatar/10.jpeg',\n",
            "              'location': {'name': \"Worldender's lair\",\n",
            "                           'url': 'https://rickandmortyapi.com/api/location/4'},\n",
            "              'name': 'Alan Rails',\n",
            "              'origin': {'name': 'unknown', 'url': ''},\n",
            "              'species': 'Human',\n",
            "              'status': 'Dead',\n",
            "              'type': 'Superhuman (Ghost trains summoner)',\n",
            "              'url': 'https://rickandmortyapi.com/api/character/10'},\n",
            "             {'created': '2017-11-04T20:20:20.965Z',\n",
            "              'episode': ['https://rickandmortyapi.com/api/episode/12'],\n",
            "              'gender': 'Male',\n",
            "              'id': 11,\n",
            "              'image': 'https://rickandmortyapi.com/api/character/avatar/11.jpeg',\n",
            "              'location': {'name': 'Earth (Replacement Dimension)',\n",
            "                           'url': 'https://rickandmortyapi.com/api/location/20'},\n",
            "              'name': 'Albert Einstein',\n",
            "              'origin': {'name': 'Earth (C-137)',\n",
            "                         'url': 'https://rickandmortyapi.com/api/location/1'},\n",
            "              'species': 'Human',\n",
            "              'status': 'Dead',\n",
            "              'type': '',\n",
            "              'url': 'https://rickandmortyapi.com/api/character/11'},\n",
            "             {'created': '2017-11-04T20:32:33.144Z',\n",
            "              'episode': ['https://rickandmortyapi.com/api/episode/3'],\n",
            "              'gender': 'Male',\n",
            "              'id': 12,\n",
            "              'image': 'https://rickandmortyapi.com/api/character/avatar/12.jpeg',\n",
            "              'location': {'name': 'Anatomy Park',\n",
            "                           'url': 'https://rickandmortyapi.com/api/location/5'},\n",
            "              'name': 'Alexander',\n",
            "              'origin': {'name': 'Earth (C-137)',\n",
            "                         'url': 'https://rickandmortyapi.com/api/location/1'},\n",
            "              'species': 'Human',\n",
            "              'status': 'Dead',\n",
            "              'type': '',\n",
            "              'url': 'https://rickandmortyapi.com/api/character/12'},\n",
            "             {'created': '2017-11-04T20:33:30.779Z',\n",
            "              'episode': ['https://rickandmortyapi.com/api/episode/31'],\n",
            "              'gender': 'unknown',\n",
            "              'id': 13,\n",
            "              'image': 'https://rickandmortyapi.com/api/character/avatar/13.jpeg',\n",
            "              'location': {'name': 'Earth (Replacement Dimension)',\n",
            "                           'url': 'https://rickandmortyapi.com/api/location/20'},\n",
            "              'name': 'Alien Googah',\n",
            "              'origin': {'name': 'unknown', 'url': ''},\n",
            "              'species': 'Alien',\n",
            "              'status': 'unknown',\n",
            "              'type': '',\n",
            "              'url': 'https://rickandmortyapi.com/api/character/13'},\n",
            "             {'created': '2017-11-04T20:51:31.373Z',\n",
            "              'episode': ['https://rickandmortyapi.com/api/episode/10'],\n",
            "              'gender': 'Male',\n",
            "              'id': 14,\n",
            "              'image': 'https://rickandmortyapi.com/api/character/avatar/14.jpeg',\n",
            "              'location': {'name': 'Citadel of Ricks',\n",
            "                           'url': 'https://rickandmortyapi.com/api/location/3'},\n",
            "              'name': 'Alien Morty',\n",
            "              'origin': {'name': 'unknown', 'url': ''},\n",
            "              'species': 'Alien',\n",
            "              'status': 'unknown',\n",
            "              'type': '',\n",
            "              'url': 'https://rickandmortyapi.com/api/character/14'},\n",
            "             {'created': '2017-11-04T20:56:13.215Z',\n",
            "              'episode': ['https://rickandmortyapi.com/api/episode/10'],\n",
            "              'gender': 'Male',\n",
            "              'id': 15,\n",
            "              'image': 'https://rickandmortyapi.com/api/character/avatar/15.jpeg',\n",
            "              'location': {'name': 'Citadel of Ricks',\n",
            "                           'url': 'https://rickandmortyapi.com/api/location/3'},\n",
            "              'name': 'Alien Rick',\n",
            "              'origin': {'name': 'unknown', 'url': ''},\n",
            "              'species': 'Alien',\n",
            "              'status': 'unknown',\n",
            "              'type': '',\n",
            "              'url': 'https://rickandmortyapi.com/api/character/15'},\n",
            "             {'created': '2017-11-04T21:12:45.235Z',\n",
            "              'episode': ['https://rickandmortyapi.com/api/episode/15'],\n",
            "              'gender': 'Male',\n",
            "              'id': 16,\n",
            "              'image': 'https://rickandmortyapi.com/api/character/avatar/16.jpeg',\n",
            "              'location': {'name': 'Earth (Replacement Dimension)',\n",
            "                           'url': 'https://rickandmortyapi.com/api/location/20'},\n",
            "              'name': 'Amish Cyborg',\n",
            "              'origin': {'name': 'unknown', 'url': ''},\n",
            "              'species': 'Alien',\n",
            "              'status': 'Dead',\n",
            "              'type': 'Parasite',\n",
            "              'url': 'https://rickandmortyapi.com/api/character/16'},\n",
            "             {'created': '2017-11-04T22:21:24.481Z',\n",
            "              'episode': ['https://rickandmortyapi.com/api/episode/3'],\n",
            "              'gender': 'Female',\n",
            "              'id': 17,\n",
            "              'image': 'https://rickandmortyapi.com/api/character/avatar/17.jpeg',\n",
            "              'location': {'name': 'Anatomy Park',\n",
            "                           'url': 'https://rickandmortyapi.com/api/location/5'},\n",
            "              'name': 'Annie',\n",
            "              'origin': {'name': 'Earth (C-137)',\n",
            "                         'url': 'https://rickandmortyapi.com/api/location/1'},\n",
            "              'species': 'Human',\n",
            "              'status': 'Alive',\n",
            "              'type': '',\n",
            "              'url': 'https://rickandmortyapi.com/api/character/17'},\n",
            "             {'created': '2017-11-04T22:25:29.008Z',\n",
            "              'episode': ['https://rickandmortyapi.com/api/episode/10',\n",
            "                          'https://rickandmortyapi.com/api/episode/28'],\n",
            "              'gender': 'Male',\n",
            "              'id': 18,\n",
            "              'image': 'https://rickandmortyapi.com/api/character/avatar/18.jpeg',\n",
            "              'location': {'name': 'Citadel of Ricks',\n",
            "                           'url': 'https://rickandmortyapi.com/api/location/3'},\n",
            "              'name': 'Antenna Morty',\n",
            "              'origin': {'name': 'unknown', 'url': ''},\n",
            "              'species': 'Human',\n",
            "              'status': 'Alive',\n",
            "              'type': 'Human with antennae',\n",
            "              'url': 'https://rickandmortyapi.com/api/character/18'},\n",
            "             {'created': '2017-11-04T22:28:13.756Z',\n",
            "              'episode': ['https://rickandmortyapi.com/api/episode/10'],\n",
            "              'gender': 'Male',\n",
            "              'id': 19,\n",
            "              'image': 'https://rickandmortyapi.com/api/character/avatar/19.jpeg',\n",
            "              'location': {'name': 'unknown', 'url': ''},\n",
            "              'name': 'Antenna Rick',\n",
            "              'origin': {'name': 'unknown', 'url': ''},\n",
            "              'species': 'Human',\n",
            "              'status': 'unknown',\n",
            "              'type': 'Human with antennae',\n",
            "              'url': 'https://rickandmortyapi.com/api/character/19'},\n",
            "             {'created': '2017-11-04T22:34:53.659Z',\n",
            "              'episode': ['https://rickandmortyapi.com/api/episode/8'],\n",
            "              'gender': 'Male',\n",
            "              'id': 20,\n",
            "              'image': 'https://rickandmortyapi.com/api/character/avatar/20.jpeg',\n",
            "              'location': {'name': 'Interdimensional Cable',\n",
            "                           'url': 'https://rickandmortyapi.com/api/location/6'},\n",
            "              'name': 'Ants in my Eyes Johnson',\n",
            "              'origin': {'name': 'unknown', 'url': ''},\n",
            "              'species': 'Human',\n",
            "              'status': 'unknown',\n",
            "              'type': 'Human with ants in his eyes',\n",
            "              'url': 'https://rickandmortyapi.com/api/character/20'}]}\n"
          ]
        }
      ],
      "source": [
        "datos = respuesta.json()\n",
        "import pprint\n",
        "pp = pprint.PrettyPrinter(indent=1) #pprint es para ponerlo bonito\n",
        "pp.pprint(datos)\n"
      ]
    },
    {
      "cell_type": "markdown",
      "metadata": {},
      "source": [
        "##### Consultamos las claves"
      ]
    },
    {
      "cell_type": "code",
      "execution_count": 5,
      "metadata": {},
      "outputs": [
        {
          "data": {
            "text/plain": [
              "dict_keys(['info', 'results'])"
            ]
          },
          "execution_count": 5,
          "metadata": {},
          "output_type": "execute_result"
        }
      ],
      "source": [
        "datos.keys()"
      ]
    },
    {
      "cell_type": "code",
      "execution_count": 6,
      "metadata": {},
      "outputs": [
        {
          "data": {
            "text/plain": [
              "{'count': 826,\n",
              " 'pages': 42,\n",
              " 'next': 'https://rickandmortyapi.com/api/character?page=2',\n",
              " 'prev': None}"
            ]
          },
          "execution_count": 6,
          "metadata": {},
          "output_type": "execute_result"
        }
      ],
      "source": [
        "#veamos que hay en 'info'\n",
        "datos['info']"
      ]
    },
    {
      "cell_type": "code",
      "execution_count": 7,
      "metadata": {},
      "outputs": [
        {
          "data": {
            "text/plain": [
              "[{'id': 1,\n",
              "  'name': 'Rick Sanchez',\n",
              "  'status': 'Alive',\n",
              "  'species': 'Human',\n",
              "  'type': '',\n",
              "  'gender': 'Male',\n",
              "  'origin': {'name': 'Earth (C-137)',\n",
              "   'url': 'https://rickandmortyapi.com/api/location/1'},\n",
              "  'location': {'name': 'Citadel of Ricks',\n",
              "   'url': 'https://rickandmortyapi.com/api/location/3'},\n",
              "  'image': 'https://rickandmortyapi.com/api/character/avatar/1.jpeg',\n",
              "  'episode': ['https://rickandmortyapi.com/api/episode/1',\n",
              "   'https://rickandmortyapi.com/api/episode/2',\n",
              "   'https://rickandmortyapi.com/api/episode/3',\n",
              "   'https://rickandmortyapi.com/api/episode/4',\n",
              "   'https://rickandmortyapi.com/api/episode/5',\n",
              "   'https://rickandmortyapi.com/api/episode/6',\n",
              "   'https://rickandmortyapi.com/api/episode/7',\n",
              "   'https://rickandmortyapi.com/api/episode/8',\n",
              "   'https://rickandmortyapi.com/api/episode/9',\n",
              "   'https://rickandmortyapi.com/api/episode/10',\n",
              "   'https://rickandmortyapi.com/api/episode/11',\n",
              "   'https://rickandmortyapi.com/api/episode/12',\n",
              "   'https://rickandmortyapi.com/api/episode/13',\n",
              "   'https://rickandmortyapi.com/api/episode/14',\n",
              "   'https://rickandmortyapi.com/api/episode/15',\n",
              "   'https://rickandmortyapi.com/api/episode/16',\n",
              "   'https://rickandmortyapi.com/api/episode/17',\n",
              "   'https://rickandmortyapi.com/api/episode/18',\n",
              "   'https://rickandmortyapi.com/api/episode/19',\n",
              "   'https://rickandmortyapi.com/api/episode/20',\n",
              "   'https://rickandmortyapi.com/api/episode/21',\n",
              "   'https://rickandmortyapi.com/api/episode/22',\n",
              "   'https://rickandmortyapi.com/api/episode/23',\n",
              "   'https://rickandmortyapi.com/api/episode/24',\n",
              "   'https://rickandmortyapi.com/api/episode/25',\n",
              "   'https://rickandmortyapi.com/api/episode/26',\n",
              "   'https://rickandmortyapi.com/api/episode/27',\n",
              "   'https://rickandmortyapi.com/api/episode/28',\n",
              "   'https://rickandmortyapi.com/api/episode/29',\n",
              "   'https://rickandmortyapi.com/api/episode/30',\n",
              "   'https://rickandmortyapi.com/api/episode/31',\n",
              "   'https://rickandmortyapi.com/api/episode/32',\n",
              "   'https://rickandmortyapi.com/api/episode/33',\n",
              "   'https://rickandmortyapi.com/api/episode/34',\n",
              "   'https://rickandmortyapi.com/api/episode/35',\n",
              "   'https://rickandmortyapi.com/api/episode/36',\n",
              "   'https://rickandmortyapi.com/api/episode/37',\n",
              "   'https://rickandmortyapi.com/api/episode/38',\n",
              "   'https://rickandmortyapi.com/api/episode/39',\n",
              "   'https://rickandmortyapi.com/api/episode/40',\n",
              "   'https://rickandmortyapi.com/api/episode/41',\n",
              "   'https://rickandmortyapi.com/api/episode/42',\n",
              "   'https://rickandmortyapi.com/api/episode/43',\n",
              "   'https://rickandmortyapi.com/api/episode/44',\n",
              "   'https://rickandmortyapi.com/api/episode/45',\n",
              "   'https://rickandmortyapi.com/api/episode/46',\n",
              "   'https://rickandmortyapi.com/api/episode/47',\n",
              "   'https://rickandmortyapi.com/api/episode/48',\n",
              "   'https://rickandmortyapi.com/api/episode/49',\n",
              "   'https://rickandmortyapi.com/api/episode/50',\n",
              "   'https://rickandmortyapi.com/api/episode/51'],\n",
              "  'url': 'https://rickandmortyapi.com/api/character/1',\n",
              "  'created': '2017-11-04T18:48:46.250Z'},\n",
              " {'id': 2,\n",
              "  'name': 'Morty Smith',\n",
              "  'status': 'Alive',\n",
              "  'species': 'Human',\n",
              "  'type': '',\n",
              "  'gender': 'Male',\n",
              "  'origin': {'name': 'unknown', 'url': ''},\n",
              "  'location': {'name': 'Citadel of Ricks',\n",
              "   'url': 'https://rickandmortyapi.com/api/location/3'},\n",
              "  'image': 'https://rickandmortyapi.com/api/character/avatar/2.jpeg',\n",
              "  'episode': ['https://rickandmortyapi.com/api/episode/1',\n",
              "   'https://rickandmortyapi.com/api/episode/2',\n",
              "   'https://rickandmortyapi.com/api/episode/3',\n",
              "   'https://rickandmortyapi.com/api/episode/4',\n",
              "   'https://rickandmortyapi.com/api/episode/5',\n",
              "   'https://rickandmortyapi.com/api/episode/6',\n",
              "   'https://rickandmortyapi.com/api/episode/7',\n",
              "   'https://rickandmortyapi.com/api/episode/8',\n",
              "   'https://rickandmortyapi.com/api/episode/9',\n",
              "   'https://rickandmortyapi.com/api/episode/10',\n",
              "   'https://rickandmortyapi.com/api/episode/11',\n",
              "   'https://rickandmortyapi.com/api/episode/12',\n",
              "   'https://rickandmortyapi.com/api/episode/13',\n",
              "   'https://rickandmortyapi.com/api/episode/14',\n",
              "   'https://rickandmortyapi.com/api/episode/15',\n",
              "   'https://rickandmortyapi.com/api/episode/16',\n",
              "   'https://rickandmortyapi.com/api/episode/17',\n",
              "   'https://rickandmortyapi.com/api/episode/18',\n",
              "   'https://rickandmortyapi.com/api/episode/19',\n",
              "   'https://rickandmortyapi.com/api/episode/20',\n",
              "   'https://rickandmortyapi.com/api/episode/21',\n",
              "   'https://rickandmortyapi.com/api/episode/22',\n",
              "   'https://rickandmortyapi.com/api/episode/23',\n",
              "   'https://rickandmortyapi.com/api/episode/24',\n",
              "   'https://rickandmortyapi.com/api/episode/25',\n",
              "   'https://rickandmortyapi.com/api/episode/26',\n",
              "   'https://rickandmortyapi.com/api/episode/27',\n",
              "   'https://rickandmortyapi.com/api/episode/28',\n",
              "   'https://rickandmortyapi.com/api/episode/29',\n",
              "   'https://rickandmortyapi.com/api/episode/30',\n",
              "   'https://rickandmortyapi.com/api/episode/31',\n",
              "   'https://rickandmortyapi.com/api/episode/32',\n",
              "   'https://rickandmortyapi.com/api/episode/33',\n",
              "   'https://rickandmortyapi.com/api/episode/34',\n",
              "   'https://rickandmortyapi.com/api/episode/35',\n",
              "   'https://rickandmortyapi.com/api/episode/36',\n",
              "   'https://rickandmortyapi.com/api/episode/37',\n",
              "   'https://rickandmortyapi.com/api/episode/38',\n",
              "   'https://rickandmortyapi.com/api/episode/39',\n",
              "   'https://rickandmortyapi.com/api/episode/40',\n",
              "   'https://rickandmortyapi.com/api/episode/41',\n",
              "   'https://rickandmortyapi.com/api/episode/42',\n",
              "   'https://rickandmortyapi.com/api/episode/43',\n",
              "   'https://rickandmortyapi.com/api/episode/44',\n",
              "   'https://rickandmortyapi.com/api/episode/45',\n",
              "   'https://rickandmortyapi.com/api/episode/46',\n",
              "   'https://rickandmortyapi.com/api/episode/47',\n",
              "   'https://rickandmortyapi.com/api/episode/48',\n",
              "   'https://rickandmortyapi.com/api/episode/49',\n",
              "   'https://rickandmortyapi.com/api/episode/50',\n",
              "   'https://rickandmortyapi.com/api/episode/51'],\n",
              "  'url': 'https://rickandmortyapi.com/api/character/2',\n",
              "  'created': '2017-11-04T18:50:21.651Z'},\n",
              " {'id': 3,\n",
              "  'name': 'Summer Smith',\n",
              "  'status': 'Alive',\n",
              "  'species': 'Human',\n",
              "  'type': '',\n",
              "  'gender': 'Female',\n",
              "  'origin': {'name': 'Earth (Replacement Dimension)',\n",
              "   'url': 'https://rickandmortyapi.com/api/location/20'},\n",
              "  'location': {'name': 'Earth (Replacement Dimension)',\n",
              "   'url': 'https://rickandmortyapi.com/api/location/20'},\n",
              "  'image': 'https://rickandmortyapi.com/api/character/avatar/3.jpeg',\n",
              "  'episode': ['https://rickandmortyapi.com/api/episode/6',\n",
              "   'https://rickandmortyapi.com/api/episode/7',\n",
              "   'https://rickandmortyapi.com/api/episode/8',\n",
              "   'https://rickandmortyapi.com/api/episode/9',\n",
              "   'https://rickandmortyapi.com/api/episode/10',\n",
              "   'https://rickandmortyapi.com/api/episode/11',\n",
              "   'https://rickandmortyapi.com/api/episode/12',\n",
              "   'https://rickandmortyapi.com/api/episode/14',\n",
              "   'https://rickandmortyapi.com/api/episode/15',\n",
              "   'https://rickandmortyapi.com/api/episode/16',\n",
              "   'https://rickandmortyapi.com/api/episode/17',\n",
              "   'https://rickandmortyapi.com/api/episode/18',\n",
              "   'https://rickandmortyapi.com/api/episode/19',\n",
              "   'https://rickandmortyapi.com/api/episode/20',\n",
              "   'https://rickandmortyapi.com/api/episode/21',\n",
              "   'https://rickandmortyapi.com/api/episode/22',\n",
              "   'https://rickandmortyapi.com/api/episode/23',\n",
              "   'https://rickandmortyapi.com/api/episode/24',\n",
              "   'https://rickandmortyapi.com/api/episode/25',\n",
              "   'https://rickandmortyapi.com/api/episode/26',\n",
              "   'https://rickandmortyapi.com/api/episode/27',\n",
              "   'https://rickandmortyapi.com/api/episode/29',\n",
              "   'https://rickandmortyapi.com/api/episode/30',\n",
              "   'https://rickandmortyapi.com/api/episode/31',\n",
              "   'https://rickandmortyapi.com/api/episode/32',\n",
              "   'https://rickandmortyapi.com/api/episode/33',\n",
              "   'https://rickandmortyapi.com/api/episode/34',\n",
              "   'https://rickandmortyapi.com/api/episode/35',\n",
              "   'https://rickandmortyapi.com/api/episode/36',\n",
              "   'https://rickandmortyapi.com/api/episode/38',\n",
              "   'https://rickandmortyapi.com/api/episode/39',\n",
              "   'https://rickandmortyapi.com/api/episode/40',\n",
              "   'https://rickandmortyapi.com/api/episode/41',\n",
              "   'https://rickandmortyapi.com/api/episode/42',\n",
              "   'https://rickandmortyapi.com/api/episode/43',\n",
              "   'https://rickandmortyapi.com/api/episode/44',\n",
              "   'https://rickandmortyapi.com/api/episode/45',\n",
              "   'https://rickandmortyapi.com/api/episode/46',\n",
              "   'https://rickandmortyapi.com/api/episode/47',\n",
              "   'https://rickandmortyapi.com/api/episode/48',\n",
              "   'https://rickandmortyapi.com/api/episode/49',\n",
              "   'https://rickandmortyapi.com/api/episode/51'],\n",
              "  'url': 'https://rickandmortyapi.com/api/character/3',\n",
              "  'created': '2017-11-04T19:09:56.428Z'},\n",
              " {'id': 4,\n",
              "  'name': 'Beth Smith',\n",
              "  'status': 'Alive',\n",
              "  'species': 'Human',\n",
              "  'type': '',\n",
              "  'gender': 'Female',\n",
              "  'origin': {'name': 'Earth (Replacement Dimension)',\n",
              "   'url': 'https://rickandmortyapi.com/api/location/20'},\n",
              "  'location': {'name': 'Earth (Replacement Dimension)',\n",
              "   'url': 'https://rickandmortyapi.com/api/location/20'},\n",
              "  'image': 'https://rickandmortyapi.com/api/character/avatar/4.jpeg',\n",
              "  'episode': ['https://rickandmortyapi.com/api/episode/6',\n",
              "   'https://rickandmortyapi.com/api/episode/7',\n",
              "   'https://rickandmortyapi.com/api/episode/8',\n",
              "   'https://rickandmortyapi.com/api/episode/9',\n",
              "   'https://rickandmortyapi.com/api/episode/10',\n",
              "   'https://rickandmortyapi.com/api/episode/11',\n",
              "   'https://rickandmortyapi.com/api/episode/12',\n",
              "   'https://rickandmortyapi.com/api/episode/14',\n",
              "   'https://rickandmortyapi.com/api/episode/15',\n",
              "   'https://rickandmortyapi.com/api/episode/16',\n",
              "   'https://rickandmortyapi.com/api/episode/18',\n",
              "   'https://rickandmortyapi.com/api/episode/19',\n",
              "   'https://rickandmortyapi.com/api/episode/20',\n",
              "   'https://rickandmortyapi.com/api/episode/21',\n",
              "   'https://rickandmortyapi.com/api/episode/22',\n",
              "   'https://rickandmortyapi.com/api/episode/23',\n",
              "   'https://rickandmortyapi.com/api/episode/24',\n",
              "   'https://rickandmortyapi.com/api/episode/25',\n",
              "   'https://rickandmortyapi.com/api/episode/26',\n",
              "   'https://rickandmortyapi.com/api/episode/27',\n",
              "   'https://rickandmortyapi.com/api/episode/28',\n",
              "   'https://rickandmortyapi.com/api/episode/29',\n",
              "   'https://rickandmortyapi.com/api/episode/30',\n",
              "   'https://rickandmortyapi.com/api/episode/31',\n",
              "   'https://rickandmortyapi.com/api/episode/32',\n",
              "   'https://rickandmortyapi.com/api/episode/33',\n",
              "   'https://rickandmortyapi.com/api/episode/34',\n",
              "   'https://rickandmortyapi.com/api/episode/35',\n",
              "   'https://rickandmortyapi.com/api/episode/36',\n",
              "   'https://rickandmortyapi.com/api/episode/38',\n",
              "   'https://rickandmortyapi.com/api/episode/39',\n",
              "   'https://rickandmortyapi.com/api/episode/40',\n",
              "   'https://rickandmortyapi.com/api/episode/41',\n",
              "   'https://rickandmortyapi.com/api/episode/42',\n",
              "   'https://rickandmortyapi.com/api/episode/43',\n",
              "   'https://rickandmortyapi.com/api/episode/44',\n",
              "   'https://rickandmortyapi.com/api/episode/45',\n",
              "   'https://rickandmortyapi.com/api/episode/46',\n",
              "   'https://rickandmortyapi.com/api/episode/47',\n",
              "   'https://rickandmortyapi.com/api/episode/48',\n",
              "   'https://rickandmortyapi.com/api/episode/49',\n",
              "   'https://rickandmortyapi.com/api/episode/51'],\n",
              "  'url': 'https://rickandmortyapi.com/api/character/4',\n",
              "  'created': '2017-11-04T19:22:43.665Z'},\n",
              " {'id': 5,\n",
              "  'name': 'Jerry Smith',\n",
              "  'status': 'Alive',\n",
              "  'species': 'Human',\n",
              "  'type': '',\n",
              "  'gender': 'Male',\n",
              "  'origin': {'name': 'Earth (Replacement Dimension)',\n",
              "   'url': 'https://rickandmortyapi.com/api/location/20'},\n",
              "  'location': {'name': 'Earth (Replacement Dimension)',\n",
              "   'url': 'https://rickandmortyapi.com/api/location/20'},\n",
              "  'image': 'https://rickandmortyapi.com/api/character/avatar/5.jpeg',\n",
              "  'episode': ['https://rickandmortyapi.com/api/episode/6',\n",
              "   'https://rickandmortyapi.com/api/episode/7',\n",
              "   'https://rickandmortyapi.com/api/episode/8',\n",
              "   'https://rickandmortyapi.com/api/episode/9',\n",
              "   'https://rickandmortyapi.com/api/episode/10',\n",
              "   'https://rickandmortyapi.com/api/episode/11',\n",
              "   'https://rickandmortyapi.com/api/episode/12',\n",
              "   'https://rickandmortyapi.com/api/episode/13',\n",
              "   'https://rickandmortyapi.com/api/episode/14',\n",
              "   'https://rickandmortyapi.com/api/episode/15',\n",
              "   'https://rickandmortyapi.com/api/episode/16',\n",
              "   'https://rickandmortyapi.com/api/episode/18',\n",
              "   'https://rickandmortyapi.com/api/episode/19',\n",
              "   'https://rickandmortyapi.com/api/episode/20',\n",
              "   'https://rickandmortyapi.com/api/episode/21',\n",
              "   'https://rickandmortyapi.com/api/episode/22',\n",
              "   'https://rickandmortyapi.com/api/episode/23',\n",
              "   'https://rickandmortyapi.com/api/episode/26',\n",
              "   'https://rickandmortyapi.com/api/episode/29',\n",
              "   'https://rickandmortyapi.com/api/episode/30',\n",
              "   'https://rickandmortyapi.com/api/episode/31',\n",
              "   'https://rickandmortyapi.com/api/episode/32',\n",
              "   'https://rickandmortyapi.com/api/episode/33',\n",
              "   'https://rickandmortyapi.com/api/episode/35',\n",
              "   'https://rickandmortyapi.com/api/episode/36',\n",
              "   'https://rickandmortyapi.com/api/episode/38',\n",
              "   'https://rickandmortyapi.com/api/episode/39',\n",
              "   'https://rickandmortyapi.com/api/episode/40',\n",
              "   'https://rickandmortyapi.com/api/episode/41',\n",
              "   'https://rickandmortyapi.com/api/episode/42',\n",
              "   'https://rickandmortyapi.com/api/episode/43',\n",
              "   'https://rickandmortyapi.com/api/episode/44',\n",
              "   'https://rickandmortyapi.com/api/episode/45',\n",
              "   'https://rickandmortyapi.com/api/episode/46',\n",
              "   'https://rickandmortyapi.com/api/episode/47',\n",
              "   'https://rickandmortyapi.com/api/episode/48',\n",
              "   'https://rickandmortyapi.com/api/episode/49',\n",
              "   'https://rickandmortyapi.com/api/episode/50',\n",
              "   'https://rickandmortyapi.com/api/episode/51'],\n",
              "  'url': 'https://rickandmortyapi.com/api/character/5',\n",
              "  'created': '2017-11-04T19:26:56.301Z'},\n",
              " {'id': 6,\n",
              "  'name': 'Abadango Cluster Princess',\n",
              "  'status': 'Alive',\n",
              "  'species': 'Alien',\n",
              "  'type': '',\n",
              "  'gender': 'Female',\n",
              "  'origin': {'name': 'Abadango',\n",
              "   'url': 'https://rickandmortyapi.com/api/location/2'},\n",
              "  'location': {'name': 'Abadango',\n",
              "   'url': 'https://rickandmortyapi.com/api/location/2'},\n",
              "  'image': 'https://rickandmortyapi.com/api/character/avatar/6.jpeg',\n",
              "  'episode': ['https://rickandmortyapi.com/api/episode/27'],\n",
              "  'url': 'https://rickandmortyapi.com/api/character/6',\n",
              "  'created': '2017-11-04T19:50:28.250Z'},\n",
              " {'id': 7,\n",
              "  'name': 'Abradolf Lincler',\n",
              "  'status': 'unknown',\n",
              "  'species': 'Human',\n",
              "  'type': 'Genetic experiment',\n",
              "  'gender': 'Male',\n",
              "  'origin': {'name': 'Earth (Replacement Dimension)',\n",
              "   'url': 'https://rickandmortyapi.com/api/location/20'},\n",
              "  'location': {'name': 'Testicle Monster Dimension',\n",
              "   'url': 'https://rickandmortyapi.com/api/location/21'},\n",
              "  'image': 'https://rickandmortyapi.com/api/character/avatar/7.jpeg',\n",
              "  'episode': ['https://rickandmortyapi.com/api/episode/10',\n",
              "   'https://rickandmortyapi.com/api/episode/11'],\n",
              "  'url': 'https://rickandmortyapi.com/api/character/7',\n",
              "  'created': '2017-11-04T19:59:20.523Z'},\n",
              " {'id': 8,\n",
              "  'name': 'Adjudicator Rick',\n",
              "  'status': 'Dead',\n",
              "  'species': 'Human',\n",
              "  'type': '',\n",
              "  'gender': 'Male',\n",
              "  'origin': {'name': 'unknown', 'url': ''},\n",
              "  'location': {'name': 'Citadel of Ricks',\n",
              "   'url': 'https://rickandmortyapi.com/api/location/3'},\n",
              "  'image': 'https://rickandmortyapi.com/api/character/avatar/8.jpeg',\n",
              "  'episode': ['https://rickandmortyapi.com/api/episode/28'],\n",
              "  'url': 'https://rickandmortyapi.com/api/character/8',\n",
              "  'created': '2017-11-04T20:03:34.737Z'},\n",
              " {'id': 9,\n",
              "  'name': 'Agency Director',\n",
              "  'status': 'Dead',\n",
              "  'species': 'Human',\n",
              "  'type': '',\n",
              "  'gender': 'Male',\n",
              "  'origin': {'name': 'Earth (Replacement Dimension)',\n",
              "   'url': 'https://rickandmortyapi.com/api/location/20'},\n",
              "  'location': {'name': 'Earth (Replacement Dimension)',\n",
              "   'url': 'https://rickandmortyapi.com/api/location/20'},\n",
              "  'image': 'https://rickandmortyapi.com/api/character/avatar/9.jpeg',\n",
              "  'episode': ['https://rickandmortyapi.com/api/episode/24'],\n",
              "  'url': 'https://rickandmortyapi.com/api/character/9',\n",
              "  'created': '2017-11-04T20:06:54.976Z'},\n",
              " {'id': 10,\n",
              "  'name': 'Alan Rails',\n",
              "  'status': 'Dead',\n",
              "  'species': 'Human',\n",
              "  'type': 'Superhuman (Ghost trains summoner)',\n",
              "  'gender': 'Male',\n",
              "  'origin': {'name': 'unknown', 'url': ''},\n",
              "  'location': {'name': \"Worldender's lair\",\n",
              "   'url': 'https://rickandmortyapi.com/api/location/4'},\n",
              "  'image': 'https://rickandmortyapi.com/api/character/avatar/10.jpeg',\n",
              "  'episode': ['https://rickandmortyapi.com/api/episode/25'],\n",
              "  'url': 'https://rickandmortyapi.com/api/character/10',\n",
              "  'created': '2017-11-04T20:19:09.017Z'},\n",
              " {'id': 11,\n",
              "  'name': 'Albert Einstein',\n",
              "  'status': 'Dead',\n",
              "  'species': 'Human',\n",
              "  'type': '',\n",
              "  'gender': 'Male',\n",
              "  'origin': {'name': 'Earth (C-137)',\n",
              "   'url': 'https://rickandmortyapi.com/api/location/1'},\n",
              "  'location': {'name': 'Earth (Replacement Dimension)',\n",
              "   'url': 'https://rickandmortyapi.com/api/location/20'},\n",
              "  'image': 'https://rickandmortyapi.com/api/character/avatar/11.jpeg',\n",
              "  'episode': ['https://rickandmortyapi.com/api/episode/12'],\n",
              "  'url': 'https://rickandmortyapi.com/api/character/11',\n",
              "  'created': '2017-11-04T20:20:20.965Z'},\n",
              " {'id': 12,\n",
              "  'name': 'Alexander',\n",
              "  'status': 'Dead',\n",
              "  'species': 'Human',\n",
              "  'type': '',\n",
              "  'gender': 'Male',\n",
              "  'origin': {'name': 'Earth (C-137)',\n",
              "   'url': 'https://rickandmortyapi.com/api/location/1'},\n",
              "  'location': {'name': 'Anatomy Park',\n",
              "   'url': 'https://rickandmortyapi.com/api/location/5'},\n",
              "  'image': 'https://rickandmortyapi.com/api/character/avatar/12.jpeg',\n",
              "  'episode': ['https://rickandmortyapi.com/api/episode/3'],\n",
              "  'url': 'https://rickandmortyapi.com/api/character/12',\n",
              "  'created': '2017-11-04T20:32:33.144Z'},\n",
              " {'id': 13,\n",
              "  'name': 'Alien Googah',\n",
              "  'status': 'unknown',\n",
              "  'species': 'Alien',\n",
              "  'type': '',\n",
              "  'gender': 'unknown',\n",
              "  'origin': {'name': 'unknown', 'url': ''},\n",
              "  'location': {'name': 'Earth (Replacement Dimension)',\n",
              "   'url': 'https://rickandmortyapi.com/api/location/20'},\n",
              "  'image': 'https://rickandmortyapi.com/api/character/avatar/13.jpeg',\n",
              "  'episode': ['https://rickandmortyapi.com/api/episode/31'],\n",
              "  'url': 'https://rickandmortyapi.com/api/character/13',\n",
              "  'created': '2017-11-04T20:33:30.779Z'},\n",
              " {'id': 14,\n",
              "  'name': 'Alien Morty',\n",
              "  'status': 'unknown',\n",
              "  'species': 'Alien',\n",
              "  'type': '',\n",
              "  'gender': 'Male',\n",
              "  'origin': {'name': 'unknown', 'url': ''},\n",
              "  'location': {'name': 'Citadel of Ricks',\n",
              "   'url': 'https://rickandmortyapi.com/api/location/3'},\n",
              "  'image': 'https://rickandmortyapi.com/api/character/avatar/14.jpeg',\n",
              "  'episode': ['https://rickandmortyapi.com/api/episode/10'],\n",
              "  'url': 'https://rickandmortyapi.com/api/character/14',\n",
              "  'created': '2017-11-04T20:51:31.373Z'},\n",
              " {'id': 15,\n",
              "  'name': 'Alien Rick',\n",
              "  'status': 'unknown',\n",
              "  'species': 'Alien',\n",
              "  'type': '',\n",
              "  'gender': 'Male',\n",
              "  'origin': {'name': 'unknown', 'url': ''},\n",
              "  'location': {'name': 'Citadel of Ricks',\n",
              "   'url': 'https://rickandmortyapi.com/api/location/3'},\n",
              "  'image': 'https://rickandmortyapi.com/api/character/avatar/15.jpeg',\n",
              "  'episode': ['https://rickandmortyapi.com/api/episode/10'],\n",
              "  'url': 'https://rickandmortyapi.com/api/character/15',\n",
              "  'created': '2017-11-04T20:56:13.215Z'},\n",
              " {'id': 16,\n",
              "  'name': 'Amish Cyborg',\n",
              "  'status': 'Dead',\n",
              "  'species': 'Alien',\n",
              "  'type': 'Parasite',\n",
              "  'gender': 'Male',\n",
              "  'origin': {'name': 'unknown', 'url': ''},\n",
              "  'location': {'name': 'Earth (Replacement Dimension)',\n",
              "   'url': 'https://rickandmortyapi.com/api/location/20'},\n",
              "  'image': 'https://rickandmortyapi.com/api/character/avatar/16.jpeg',\n",
              "  'episode': ['https://rickandmortyapi.com/api/episode/15'],\n",
              "  'url': 'https://rickandmortyapi.com/api/character/16',\n",
              "  'created': '2017-11-04T21:12:45.235Z'},\n",
              " {'id': 17,\n",
              "  'name': 'Annie',\n",
              "  'status': 'Alive',\n",
              "  'species': 'Human',\n",
              "  'type': '',\n",
              "  'gender': 'Female',\n",
              "  'origin': {'name': 'Earth (C-137)',\n",
              "   'url': 'https://rickandmortyapi.com/api/location/1'},\n",
              "  'location': {'name': 'Anatomy Park',\n",
              "   'url': 'https://rickandmortyapi.com/api/location/5'},\n",
              "  'image': 'https://rickandmortyapi.com/api/character/avatar/17.jpeg',\n",
              "  'episode': ['https://rickandmortyapi.com/api/episode/3'],\n",
              "  'url': 'https://rickandmortyapi.com/api/character/17',\n",
              "  'created': '2017-11-04T22:21:24.481Z'},\n",
              " {'id': 18,\n",
              "  'name': 'Antenna Morty',\n",
              "  'status': 'Alive',\n",
              "  'species': 'Human',\n",
              "  'type': 'Human with antennae',\n",
              "  'gender': 'Male',\n",
              "  'origin': {'name': 'unknown', 'url': ''},\n",
              "  'location': {'name': 'Citadel of Ricks',\n",
              "   'url': 'https://rickandmortyapi.com/api/location/3'},\n",
              "  'image': 'https://rickandmortyapi.com/api/character/avatar/18.jpeg',\n",
              "  'episode': ['https://rickandmortyapi.com/api/episode/10',\n",
              "   'https://rickandmortyapi.com/api/episode/28'],\n",
              "  'url': 'https://rickandmortyapi.com/api/character/18',\n",
              "  'created': '2017-11-04T22:25:29.008Z'},\n",
              " {'id': 19,\n",
              "  'name': 'Antenna Rick',\n",
              "  'status': 'unknown',\n",
              "  'species': 'Human',\n",
              "  'type': 'Human with antennae',\n",
              "  'gender': 'Male',\n",
              "  'origin': {'name': 'unknown', 'url': ''},\n",
              "  'location': {'name': 'unknown', 'url': ''},\n",
              "  'image': 'https://rickandmortyapi.com/api/character/avatar/19.jpeg',\n",
              "  'episode': ['https://rickandmortyapi.com/api/episode/10'],\n",
              "  'url': 'https://rickandmortyapi.com/api/character/19',\n",
              "  'created': '2017-11-04T22:28:13.756Z'},\n",
              " {'id': 20,\n",
              "  'name': 'Ants in my Eyes Johnson',\n",
              "  'status': 'unknown',\n",
              "  'species': 'Human',\n",
              "  'type': 'Human with ants in his eyes',\n",
              "  'gender': 'Male',\n",
              "  'origin': {'name': 'unknown', 'url': ''},\n",
              "  'location': {'name': 'Interdimensional Cable',\n",
              "   'url': 'https://rickandmortyapi.com/api/location/6'},\n",
              "  'image': 'https://rickandmortyapi.com/api/character/avatar/20.jpeg',\n",
              "  'episode': ['https://rickandmortyapi.com/api/episode/8'],\n",
              "  'url': 'https://rickandmortyapi.com/api/character/20',\n",
              "  'created': '2017-11-04T22:34:53.659Z'}]"
            ]
          },
          "execution_count": 7,
          "metadata": {},
          "output_type": "execute_result"
        }
      ],
      "source": [
        "#veamos que hay en 'results'\n",
        "datos['results']"
      ]
    },
    {
      "cell_type": "markdown",
      "metadata": {},
      "source": [
        "#### CREAR LA FUNCIÓN DE OBTENCIÓN DE PERSONAJES MEDIANTE EL USO DE API "
      ]
    },
    {
      "cell_type": "code",
      "execution_count": 8,
      "metadata": {},
      "outputs": [
        {
          "data": {
            "text/plain": [
              "'\\n   La función \"obtener_datos_personajes\" crea una lista vacía llamada personajes.\\n   Establece una variable i en 0.\\n   Mientras la condición sea verdadera, realiza una solicitud GET a la URL establecida en la variable base_url,\\n   pasando como parámetro el valor de la variable i más 1.\\n   La variable d recibe el resultado de la solicitud, el cual es un archivo JSON, y se almacena el valor de \"results\".\\n   Si el resultado es nulo, se rompe el bucle.\\n   En caso contrario, se extiende la lista personajes con el resultado de la solicitud y se incrementa la variable i en 1.\\n'"
            ]
          },
          "execution_count": 8,
          "metadata": {},
          "output_type": "execute_result"
        }
      ],
      "source": [
        "\"\"\"\n",
        "   La función \"obtener_datos_personajes\" crea una lista vacía llamada personajes.\n",
        "   Establece una variable i en 0.\n",
        "   Mientras la condición sea verdadera, realiza una solicitud GET a la URL establecida en la variable base_url,\n",
        "   pasando como parámetro el valor de la variable i más 1.\n",
        "   La variable d recibe el resultado de la solicitud, el cual es un archivo JSON, y se almacena el valor de \"results\".\n",
        "   Si el resultado es nulo, se rompe el bucle.\n",
        "   En caso contrario, se extiende la lista personajes con el resultado de la solicitud y se incrementa la variable i en 1.\n",
        "\"\"\"\n"
      ]
    },
    {
      "cell_type": "code",
      "execution_count": 9,
      "metadata": {},
      "outputs": [],
      "source": [
        "base_url = \"https://rickandmortyapi.com/api/character\""
      ]
    },
    {
      "cell_type": "code",
      "execution_count": 10,
      "metadata": {},
      "outputs": [],
      "source": [
        "import requests\n",
        "import pandas as pd\n",
        "\n",
        "def obtener_datos_personajes():\n",
        "\n",
        "    personajes = []\n",
        "    i = 1\n",
        "\n",
        "    while True:\n",
        "        respuesta = requests.get(f\"https://rickandmortyapi.com/api/character?page={i}\")\n",
        "        d = respuesta.json()\n",
        "\n",
        "        if not d.get('results'):\n",
        "            break\n",
        "        else:\n",
        "            personajes.extend(d['results'])\n",
        "            i += 1\n",
        "    return personajes\n",
        "\n",
        "df = pd.DataFrame(obtener_datos_personajes())\n"
      ]
    },
    {
      "cell_type": "code",
      "execution_count": 11,
      "metadata": {},
      "outputs": [
        {
          "data": {
            "text/html": [
              "<div>\n",
              "<style scoped>\n",
              "    .dataframe tbody tr th:only-of-type {\n",
              "        vertical-align: middle;\n",
              "    }\n",
              "\n",
              "    .dataframe tbody tr th {\n",
              "        vertical-align: top;\n",
              "    }\n",
              "\n",
              "    .dataframe thead th {\n",
              "        text-align: right;\n",
              "    }\n",
              "</style>\n",
              "<table border=\"1\" class=\"dataframe\">\n",
              "  <thead>\n",
              "    <tr style=\"text-align: right;\">\n",
              "      <th></th>\n",
              "      <th>id</th>\n",
              "      <th>name</th>\n",
              "      <th>status</th>\n",
              "      <th>species</th>\n",
              "      <th>type</th>\n",
              "      <th>gender</th>\n",
              "      <th>origin</th>\n",
              "      <th>location</th>\n",
              "      <th>image</th>\n",
              "      <th>episode</th>\n",
              "      <th>url</th>\n",
              "      <th>created</th>\n",
              "    </tr>\n",
              "  </thead>\n",
              "  <tbody>\n",
              "    <tr>\n",
              "      <th>0</th>\n",
              "      <td>1</td>\n",
              "      <td>Rick Sanchez</td>\n",
              "      <td>Alive</td>\n",
              "      <td>Human</td>\n",
              "      <td></td>\n",
              "      <td>Male</td>\n",
              "      <td>{'name': 'Earth (C-137)', 'url': 'https://rick...</td>\n",
              "      <td>{'name': 'Citadel of Ricks', 'url': 'https://r...</td>\n",
              "      <td>https://rickandmortyapi.com/api/character/avat...</td>\n",
              "      <td>[https://rickandmortyapi.com/api/episode/1, ht...</td>\n",
              "      <td>https://rickandmortyapi.com/api/character/1</td>\n",
              "      <td>2017-11-04T18:48:46.250Z</td>\n",
              "    </tr>\n",
              "    <tr>\n",
              "      <th>1</th>\n",
              "      <td>2</td>\n",
              "      <td>Morty Smith</td>\n",
              "      <td>Alive</td>\n",
              "      <td>Human</td>\n",
              "      <td></td>\n",
              "      <td>Male</td>\n",
              "      <td>{'name': 'unknown', 'url': ''}</td>\n",
              "      <td>{'name': 'Citadel of Ricks', 'url': 'https://r...</td>\n",
              "      <td>https://rickandmortyapi.com/api/character/avat...</td>\n",
              "      <td>[https://rickandmortyapi.com/api/episode/1, ht...</td>\n",
              "      <td>https://rickandmortyapi.com/api/character/2</td>\n",
              "      <td>2017-11-04T18:50:21.651Z</td>\n",
              "    </tr>\n",
              "    <tr>\n",
              "      <th>2</th>\n",
              "      <td>3</td>\n",
              "      <td>Summer Smith</td>\n",
              "      <td>Alive</td>\n",
              "      <td>Human</td>\n",
              "      <td></td>\n",
              "      <td>Female</td>\n",
              "      <td>{'name': 'Earth (Replacement Dimension)', 'url...</td>\n",
              "      <td>{'name': 'Earth (Replacement Dimension)', 'url...</td>\n",
              "      <td>https://rickandmortyapi.com/api/character/avat...</td>\n",
              "      <td>[https://rickandmortyapi.com/api/episode/6, ht...</td>\n",
              "      <td>https://rickandmortyapi.com/api/character/3</td>\n",
              "      <td>2017-11-04T19:09:56.428Z</td>\n",
              "    </tr>\n",
              "    <tr>\n",
              "      <th>3</th>\n",
              "      <td>4</td>\n",
              "      <td>Beth Smith</td>\n",
              "      <td>Alive</td>\n",
              "      <td>Human</td>\n",
              "      <td></td>\n",
              "      <td>Female</td>\n",
              "      <td>{'name': 'Earth (Replacement Dimension)', 'url...</td>\n",
              "      <td>{'name': 'Earth (Replacement Dimension)', 'url...</td>\n",
              "      <td>https://rickandmortyapi.com/api/character/avat...</td>\n",
              "      <td>[https://rickandmortyapi.com/api/episode/6, ht...</td>\n",
              "      <td>https://rickandmortyapi.com/api/character/4</td>\n",
              "      <td>2017-11-04T19:22:43.665Z</td>\n",
              "    </tr>\n",
              "    <tr>\n",
              "      <th>4</th>\n",
              "      <td>5</td>\n",
              "      <td>Jerry Smith</td>\n",
              "      <td>Alive</td>\n",
              "      <td>Human</td>\n",
              "      <td></td>\n",
              "      <td>Male</td>\n",
              "      <td>{'name': 'Earth (Replacement Dimension)', 'url...</td>\n",
              "      <td>{'name': 'Earth (Replacement Dimension)', 'url...</td>\n",
              "      <td>https://rickandmortyapi.com/api/character/avat...</td>\n",
              "      <td>[https://rickandmortyapi.com/api/episode/6, ht...</td>\n",
              "      <td>https://rickandmortyapi.com/api/character/5</td>\n",
              "      <td>2017-11-04T19:26:56.301Z</td>\n",
              "    </tr>\n",
              "    <tr>\n",
              "      <th>...</th>\n",
              "      <td>...</td>\n",
              "      <td>...</td>\n",
              "      <td>...</td>\n",
              "      <td>...</td>\n",
              "      <td>...</td>\n",
              "      <td>...</td>\n",
              "      <td>...</td>\n",
              "      <td>...</td>\n",
              "      <td>...</td>\n",
              "      <td>...</td>\n",
              "      <td>...</td>\n",
              "      <td>...</td>\n",
              "    </tr>\n",
              "    <tr>\n",
              "      <th>821</th>\n",
              "      <td>822</td>\n",
              "      <td>Young Jerry</td>\n",
              "      <td>unknown</td>\n",
              "      <td>Human</td>\n",
              "      <td></td>\n",
              "      <td>Male</td>\n",
              "      <td>{'name': 'Earth (Unknown dimension)', 'url': '...</td>\n",
              "      <td>{'name': 'Earth (Unknown dimension)', 'url': '...</td>\n",
              "      <td>https://rickandmortyapi.com/api/character/avat...</td>\n",
              "      <td>[https://rickandmortyapi.com/api/episode/51]</td>\n",
              "      <td>https://rickandmortyapi.com/api/character/822</td>\n",
              "      <td>2021-11-02T17:18:31.934Z</td>\n",
              "    </tr>\n",
              "    <tr>\n",
              "      <th>822</th>\n",
              "      <td>823</td>\n",
              "      <td>Young Beth</td>\n",
              "      <td>unknown</td>\n",
              "      <td>Human</td>\n",
              "      <td></td>\n",
              "      <td>Female</td>\n",
              "      <td>{'name': 'Earth (Unknown dimension)', 'url': '...</td>\n",
              "      <td>{'name': 'Earth (Unknown dimension)', 'url': '...</td>\n",
              "      <td>https://rickandmortyapi.com/api/character/avat...</td>\n",
              "      <td>[https://rickandmortyapi.com/api/episode/51]</td>\n",
              "      <td>https://rickandmortyapi.com/api/character/823</td>\n",
              "      <td>2021-11-02T17:19:00.951Z</td>\n",
              "    </tr>\n",
              "    <tr>\n",
              "      <th>823</th>\n",
              "      <td>824</td>\n",
              "      <td>Young Beth</td>\n",
              "      <td>unknown</td>\n",
              "      <td>Human</td>\n",
              "      <td></td>\n",
              "      <td>Female</td>\n",
              "      <td>{'name': 'Earth (Unknown dimension)', 'url': '...</td>\n",
              "      <td>{'name': 'Earth (Unknown dimension)', 'url': '...</td>\n",
              "      <td>https://rickandmortyapi.com/api/character/avat...</td>\n",
              "      <td>[https://rickandmortyapi.com/api/episode/51]</td>\n",
              "      <td>https://rickandmortyapi.com/api/character/824</td>\n",
              "      <td>2021-11-02T17:19:47.957Z</td>\n",
              "    </tr>\n",
              "    <tr>\n",
              "      <th>824</th>\n",
              "      <td>825</td>\n",
              "      <td>Young Jerry</td>\n",
              "      <td>unknown</td>\n",
              "      <td>Human</td>\n",
              "      <td></td>\n",
              "      <td>Male</td>\n",
              "      <td>{'name': 'Earth (Unknown dimension)', 'url': '...</td>\n",
              "      <td>{'name': 'Earth (Unknown dimension)', 'url': '...</td>\n",
              "      <td>https://rickandmortyapi.com/api/character/avat...</td>\n",
              "      <td>[https://rickandmortyapi.com/api/episode/51]</td>\n",
              "      <td>https://rickandmortyapi.com/api/character/825</td>\n",
              "      <td>2021-11-02T17:20:14.305Z</td>\n",
              "    </tr>\n",
              "    <tr>\n",
              "      <th>825</th>\n",
              "      <td>826</td>\n",
              "      <td>Butter Robot</td>\n",
              "      <td>Alive</td>\n",
              "      <td>Robot</td>\n",
              "      <td>Passing Butter Robot</td>\n",
              "      <td>Genderless</td>\n",
              "      <td>{'name': 'Earth (Replacement Dimension)', 'url...</td>\n",
              "      <td>{'name': 'Earth (Replacement Dimension)', 'url...</td>\n",
              "      <td>https://rickandmortyapi.com/api/character/avat...</td>\n",
              "      <td>[https://rickandmortyapi.com/api/episode/9]</td>\n",
              "      <td>https://rickandmortyapi.com/api/character/826</td>\n",
              "      <td>2021-11-02T17:24:37.458Z</td>\n",
              "    </tr>\n",
              "  </tbody>\n",
              "</table>\n",
              "<p>826 rows × 12 columns</p>\n",
              "</div>"
            ],
            "text/plain": [
              "      id          name   status species                  type      gender  \\\n",
              "0      1  Rick Sanchez    Alive   Human                              Male   \n",
              "1      2   Morty Smith    Alive   Human                              Male   \n",
              "2      3  Summer Smith    Alive   Human                            Female   \n",
              "3      4    Beth Smith    Alive   Human                            Female   \n",
              "4      5   Jerry Smith    Alive   Human                              Male   \n",
              "..   ...           ...      ...     ...                   ...         ...   \n",
              "821  822   Young Jerry  unknown   Human                              Male   \n",
              "822  823    Young Beth  unknown   Human                            Female   \n",
              "823  824    Young Beth  unknown   Human                            Female   \n",
              "824  825   Young Jerry  unknown   Human                              Male   \n",
              "825  826  Butter Robot    Alive   Robot  Passing Butter Robot  Genderless   \n",
              "\n",
              "                                                origin  \\\n",
              "0    {'name': 'Earth (C-137)', 'url': 'https://rick...   \n",
              "1                       {'name': 'unknown', 'url': ''}   \n",
              "2    {'name': 'Earth (Replacement Dimension)', 'url...   \n",
              "3    {'name': 'Earth (Replacement Dimension)', 'url...   \n",
              "4    {'name': 'Earth (Replacement Dimension)', 'url...   \n",
              "..                                                 ...   \n",
              "821  {'name': 'Earth (Unknown dimension)', 'url': '...   \n",
              "822  {'name': 'Earth (Unknown dimension)', 'url': '...   \n",
              "823  {'name': 'Earth (Unknown dimension)', 'url': '...   \n",
              "824  {'name': 'Earth (Unknown dimension)', 'url': '...   \n",
              "825  {'name': 'Earth (Replacement Dimension)', 'url...   \n",
              "\n",
              "                                              location  \\\n",
              "0    {'name': 'Citadel of Ricks', 'url': 'https://r...   \n",
              "1    {'name': 'Citadel of Ricks', 'url': 'https://r...   \n",
              "2    {'name': 'Earth (Replacement Dimension)', 'url...   \n",
              "3    {'name': 'Earth (Replacement Dimension)', 'url...   \n",
              "4    {'name': 'Earth (Replacement Dimension)', 'url...   \n",
              "..                                                 ...   \n",
              "821  {'name': 'Earth (Unknown dimension)', 'url': '...   \n",
              "822  {'name': 'Earth (Unknown dimension)', 'url': '...   \n",
              "823  {'name': 'Earth (Unknown dimension)', 'url': '...   \n",
              "824  {'name': 'Earth (Unknown dimension)', 'url': '...   \n",
              "825  {'name': 'Earth (Replacement Dimension)', 'url...   \n",
              "\n",
              "                                                 image  \\\n",
              "0    https://rickandmortyapi.com/api/character/avat...   \n",
              "1    https://rickandmortyapi.com/api/character/avat...   \n",
              "2    https://rickandmortyapi.com/api/character/avat...   \n",
              "3    https://rickandmortyapi.com/api/character/avat...   \n",
              "4    https://rickandmortyapi.com/api/character/avat...   \n",
              "..                                                 ...   \n",
              "821  https://rickandmortyapi.com/api/character/avat...   \n",
              "822  https://rickandmortyapi.com/api/character/avat...   \n",
              "823  https://rickandmortyapi.com/api/character/avat...   \n",
              "824  https://rickandmortyapi.com/api/character/avat...   \n",
              "825  https://rickandmortyapi.com/api/character/avat...   \n",
              "\n",
              "                                               episode  \\\n",
              "0    [https://rickandmortyapi.com/api/episode/1, ht...   \n",
              "1    [https://rickandmortyapi.com/api/episode/1, ht...   \n",
              "2    [https://rickandmortyapi.com/api/episode/6, ht...   \n",
              "3    [https://rickandmortyapi.com/api/episode/6, ht...   \n",
              "4    [https://rickandmortyapi.com/api/episode/6, ht...   \n",
              "..                                                 ...   \n",
              "821       [https://rickandmortyapi.com/api/episode/51]   \n",
              "822       [https://rickandmortyapi.com/api/episode/51]   \n",
              "823       [https://rickandmortyapi.com/api/episode/51]   \n",
              "824       [https://rickandmortyapi.com/api/episode/51]   \n",
              "825        [https://rickandmortyapi.com/api/episode/9]   \n",
              "\n",
              "                                               url                   created  \n",
              "0      https://rickandmortyapi.com/api/character/1  2017-11-04T18:48:46.250Z  \n",
              "1      https://rickandmortyapi.com/api/character/2  2017-11-04T18:50:21.651Z  \n",
              "2      https://rickandmortyapi.com/api/character/3  2017-11-04T19:09:56.428Z  \n",
              "3      https://rickandmortyapi.com/api/character/4  2017-11-04T19:22:43.665Z  \n",
              "4      https://rickandmortyapi.com/api/character/5  2017-11-04T19:26:56.301Z  \n",
              "..                                             ...                       ...  \n",
              "821  https://rickandmortyapi.com/api/character/822  2021-11-02T17:18:31.934Z  \n",
              "822  https://rickandmortyapi.com/api/character/823  2021-11-02T17:19:00.951Z  \n",
              "823  https://rickandmortyapi.com/api/character/824  2021-11-02T17:19:47.957Z  \n",
              "824  https://rickandmortyapi.com/api/character/825  2021-11-02T17:20:14.305Z  \n",
              "825  https://rickandmortyapi.com/api/character/826  2021-11-02T17:24:37.458Z  \n",
              "\n",
              "[826 rows x 12 columns]"
            ]
          },
          "execution_count": 11,
          "metadata": {},
          "output_type": "execute_result"
        }
      ],
      "source": [
        "df"
      ]
    },
    {
      "cell_type": "code",
      "execution_count": 12,
      "metadata": {
        "colab": {
          "base_uri": "https://localhost:8080/"
        },
        "id": "QEHfLJZYKC4T",
        "outputId": "2a66a102-c33c-4ac6-99af-6c50de6b1454"
      },
      "outputs": [
        {
          "data": {
            "text/plain": [
              "(826, 12)"
            ]
          },
          "execution_count": 12,
          "metadata": {},
          "output_type": "execute_result"
        }
      ],
      "source": [
        "df.shape"
      ]
    },
    {
      "cell_type": "code",
      "execution_count": 13,
      "metadata": {
        "id": "rYUEw9SkN36C"
      },
      "outputs": [],
      "source": [
        "# guardamos en un csv\n",
        "\n",
        "df.to_csv('ricky_morty_clean.csv')"
      ]
    },
    {
      "cell_type": "code",
      "execution_count": 14,
      "metadata": {
        "id": "2WpkEO6yOeUp"
      },
      "outputs": [
        {
          "data": {
            "text/plain": [
              "0      {'name': 'Earth (C-137)', 'url': 'https://rick...\n",
              "1                         {'name': 'unknown', 'url': ''}\n",
              "2      {'name': 'Earth (Replacement Dimension)', 'url...\n",
              "3      {'name': 'Earth (Replacement Dimension)', 'url...\n",
              "4      {'name': 'Earth (Replacement Dimension)', 'url...\n",
              "                             ...                        \n",
              "821    {'name': 'Earth (Unknown dimension)', 'url': '...\n",
              "822    {'name': 'Earth (Unknown dimension)', 'url': '...\n",
              "823    {'name': 'Earth (Unknown dimension)', 'url': '...\n",
              "824    {'name': 'Earth (Unknown dimension)', 'url': '...\n",
              "825    {'name': 'Earth (Replacement Dimension)', 'url...\n",
              "Name: origin, Length: 826, dtype: object"
            ]
          },
          "execution_count": 14,
          "metadata": {},
          "output_type": "execute_result"
        }
      ],
      "source": [
        "#Limpiamos la columna origin dejando solo el nombre de donde nació (despues de 'name': y antes de url': '')\n",
        "\n",
        "df['origin']"
      ]
    },
    {
      "cell_type": "code",
      "execution_count": 19,
      "metadata": {},
      "outputs": [],
      "source": [
        "def limpiar_origin(row):\n",
        "    if row and 'name' in row:\n",
        "        return row['name']\n",
        "    else:\n",
        "        return None\n",
        "\n",
        "# Aplica la función a la columna 'origin'\n",
        "df['origin'] = df['origin'].apply(limpiar_origin)\n"
      ]
    },
    {
      "cell_type": "code",
      "execution_count": 20,
      "metadata": {},
      "outputs": [
        {
          "data": {
            "text/html": [
              "<div>\n",
              "<style scoped>\n",
              "    .dataframe tbody tr th:only-of-type {\n",
              "        vertical-align: middle;\n",
              "    }\n",
              "\n",
              "    .dataframe tbody tr th {\n",
              "        vertical-align: top;\n",
              "    }\n",
              "\n",
              "    .dataframe thead th {\n",
              "        text-align: right;\n",
              "    }\n",
              "</style>\n",
              "<table border=\"1\" class=\"dataframe\">\n",
              "  <thead>\n",
              "    <tr style=\"text-align: right;\">\n",
              "      <th></th>\n",
              "      <th>id</th>\n",
              "      <th>name</th>\n",
              "      <th>status</th>\n",
              "      <th>species</th>\n",
              "      <th>type</th>\n",
              "      <th>gender</th>\n",
              "      <th>origin</th>\n",
              "      <th>location</th>\n",
              "      <th>image</th>\n",
              "      <th>episode</th>\n",
              "      <th>url</th>\n",
              "      <th>created</th>\n",
              "    </tr>\n",
              "  </thead>\n",
              "  <tbody>\n",
              "    <tr>\n",
              "      <th>0</th>\n",
              "      <td>1</td>\n",
              "      <td>Rick Sanchez</td>\n",
              "      <td>Alive</td>\n",
              "      <td>Human</td>\n",
              "      <td></td>\n",
              "      <td>Male</td>\n",
              "      <td>Earth (C-137)</td>\n",
              "      <td>{'name': 'Citadel of Ricks', 'url': 'https://r...</td>\n",
              "      <td>https://rickandmortyapi.com/api/character/avat...</td>\n",
              "      <td>[https://rickandmortyapi.com/api/episode/1, ht...</td>\n",
              "      <td>https://rickandmortyapi.com/api/character/1</td>\n",
              "      <td>2017-11-04T18:48:46.250Z</td>\n",
              "    </tr>\n",
              "    <tr>\n",
              "      <th>1</th>\n",
              "      <td>2</td>\n",
              "      <td>Morty Smith</td>\n",
              "      <td>Alive</td>\n",
              "      <td>Human</td>\n",
              "      <td></td>\n",
              "      <td>Male</td>\n",
              "      <td>unknown</td>\n",
              "      <td>{'name': 'Citadel of Ricks', 'url': 'https://r...</td>\n",
              "      <td>https://rickandmortyapi.com/api/character/avat...</td>\n",
              "      <td>[https://rickandmortyapi.com/api/episode/1, ht...</td>\n",
              "      <td>https://rickandmortyapi.com/api/character/2</td>\n",
              "      <td>2017-11-04T18:50:21.651Z</td>\n",
              "    </tr>\n",
              "    <tr>\n",
              "      <th>2</th>\n",
              "      <td>3</td>\n",
              "      <td>Summer Smith</td>\n",
              "      <td>Alive</td>\n",
              "      <td>Human</td>\n",
              "      <td></td>\n",
              "      <td>Female</td>\n",
              "      <td>Earth (Replacement Dimension)</td>\n",
              "      <td>{'name': 'Earth (Replacement Dimension)', 'url...</td>\n",
              "      <td>https://rickandmortyapi.com/api/character/avat...</td>\n",
              "      <td>[https://rickandmortyapi.com/api/episode/6, ht...</td>\n",
              "      <td>https://rickandmortyapi.com/api/character/3</td>\n",
              "      <td>2017-11-04T19:09:56.428Z</td>\n",
              "    </tr>\n",
              "    <tr>\n",
              "      <th>3</th>\n",
              "      <td>4</td>\n",
              "      <td>Beth Smith</td>\n",
              "      <td>Alive</td>\n",
              "      <td>Human</td>\n",
              "      <td></td>\n",
              "      <td>Female</td>\n",
              "      <td>Earth (Replacement Dimension)</td>\n",
              "      <td>{'name': 'Earth (Replacement Dimension)', 'url...</td>\n",
              "      <td>https://rickandmortyapi.com/api/character/avat...</td>\n",
              "      <td>[https://rickandmortyapi.com/api/episode/6, ht...</td>\n",
              "      <td>https://rickandmortyapi.com/api/character/4</td>\n",
              "      <td>2017-11-04T19:22:43.665Z</td>\n",
              "    </tr>\n",
              "    <tr>\n",
              "      <th>4</th>\n",
              "      <td>5</td>\n",
              "      <td>Jerry Smith</td>\n",
              "      <td>Alive</td>\n",
              "      <td>Human</td>\n",
              "      <td></td>\n",
              "      <td>Male</td>\n",
              "      <td>Earth (Replacement Dimension)</td>\n",
              "      <td>{'name': 'Earth (Replacement Dimension)', 'url...</td>\n",
              "      <td>https://rickandmortyapi.com/api/character/avat...</td>\n",
              "      <td>[https://rickandmortyapi.com/api/episode/6, ht...</td>\n",
              "      <td>https://rickandmortyapi.com/api/character/5</td>\n",
              "      <td>2017-11-04T19:26:56.301Z</td>\n",
              "    </tr>\n",
              "    <tr>\n",
              "      <th>...</th>\n",
              "      <td>...</td>\n",
              "      <td>...</td>\n",
              "      <td>...</td>\n",
              "      <td>...</td>\n",
              "      <td>...</td>\n",
              "      <td>...</td>\n",
              "      <td>...</td>\n",
              "      <td>...</td>\n",
              "      <td>...</td>\n",
              "      <td>...</td>\n",
              "      <td>...</td>\n",
              "      <td>...</td>\n",
              "    </tr>\n",
              "    <tr>\n",
              "      <th>821</th>\n",
              "      <td>822</td>\n",
              "      <td>Young Jerry</td>\n",
              "      <td>unknown</td>\n",
              "      <td>Human</td>\n",
              "      <td></td>\n",
              "      <td>Male</td>\n",
              "      <td>Earth (Unknown dimension)</td>\n",
              "      <td>{'name': 'Earth (Unknown dimension)', 'url': '...</td>\n",
              "      <td>https://rickandmortyapi.com/api/character/avat...</td>\n",
              "      <td>[https://rickandmortyapi.com/api/episode/51]</td>\n",
              "      <td>https://rickandmortyapi.com/api/character/822</td>\n",
              "      <td>2021-11-02T17:18:31.934Z</td>\n",
              "    </tr>\n",
              "    <tr>\n",
              "      <th>822</th>\n",
              "      <td>823</td>\n",
              "      <td>Young Beth</td>\n",
              "      <td>unknown</td>\n",
              "      <td>Human</td>\n",
              "      <td></td>\n",
              "      <td>Female</td>\n",
              "      <td>Earth (Unknown dimension)</td>\n",
              "      <td>{'name': 'Earth (Unknown dimension)', 'url': '...</td>\n",
              "      <td>https://rickandmortyapi.com/api/character/avat...</td>\n",
              "      <td>[https://rickandmortyapi.com/api/episode/51]</td>\n",
              "      <td>https://rickandmortyapi.com/api/character/823</td>\n",
              "      <td>2021-11-02T17:19:00.951Z</td>\n",
              "    </tr>\n",
              "    <tr>\n",
              "      <th>823</th>\n",
              "      <td>824</td>\n",
              "      <td>Young Beth</td>\n",
              "      <td>unknown</td>\n",
              "      <td>Human</td>\n",
              "      <td></td>\n",
              "      <td>Female</td>\n",
              "      <td>Earth (Unknown dimension)</td>\n",
              "      <td>{'name': 'Earth (Unknown dimension)', 'url': '...</td>\n",
              "      <td>https://rickandmortyapi.com/api/character/avat...</td>\n",
              "      <td>[https://rickandmortyapi.com/api/episode/51]</td>\n",
              "      <td>https://rickandmortyapi.com/api/character/824</td>\n",
              "      <td>2021-11-02T17:19:47.957Z</td>\n",
              "    </tr>\n",
              "    <tr>\n",
              "      <th>824</th>\n",
              "      <td>825</td>\n",
              "      <td>Young Jerry</td>\n",
              "      <td>unknown</td>\n",
              "      <td>Human</td>\n",
              "      <td></td>\n",
              "      <td>Male</td>\n",
              "      <td>Earth (Unknown dimension)</td>\n",
              "      <td>{'name': 'Earth (Unknown dimension)', 'url': '...</td>\n",
              "      <td>https://rickandmortyapi.com/api/character/avat...</td>\n",
              "      <td>[https://rickandmortyapi.com/api/episode/51]</td>\n",
              "      <td>https://rickandmortyapi.com/api/character/825</td>\n",
              "      <td>2021-11-02T17:20:14.305Z</td>\n",
              "    </tr>\n",
              "    <tr>\n",
              "      <th>825</th>\n",
              "      <td>826</td>\n",
              "      <td>Butter Robot</td>\n",
              "      <td>Alive</td>\n",
              "      <td>Robot</td>\n",
              "      <td>Passing Butter Robot</td>\n",
              "      <td>Genderless</td>\n",
              "      <td>Earth (Replacement Dimension)</td>\n",
              "      <td>{'name': 'Earth (Replacement Dimension)', 'url...</td>\n",
              "      <td>https://rickandmortyapi.com/api/character/avat...</td>\n",
              "      <td>[https://rickandmortyapi.com/api/episode/9]</td>\n",
              "      <td>https://rickandmortyapi.com/api/character/826</td>\n",
              "      <td>2021-11-02T17:24:37.458Z</td>\n",
              "    </tr>\n",
              "  </tbody>\n",
              "</table>\n",
              "<p>826 rows × 12 columns</p>\n",
              "</div>"
            ],
            "text/plain": [
              "      id          name   status species                  type      gender  \\\n",
              "0      1  Rick Sanchez    Alive   Human                              Male   \n",
              "1      2   Morty Smith    Alive   Human                              Male   \n",
              "2      3  Summer Smith    Alive   Human                            Female   \n",
              "3      4    Beth Smith    Alive   Human                            Female   \n",
              "4      5   Jerry Smith    Alive   Human                              Male   \n",
              "..   ...           ...      ...     ...                   ...         ...   \n",
              "821  822   Young Jerry  unknown   Human                              Male   \n",
              "822  823    Young Beth  unknown   Human                            Female   \n",
              "823  824    Young Beth  unknown   Human                            Female   \n",
              "824  825   Young Jerry  unknown   Human                              Male   \n",
              "825  826  Butter Robot    Alive   Robot  Passing Butter Robot  Genderless   \n",
              "\n",
              "                            origin  \\\n",
              "0                    Earth (C-137)   \n",
              "1                          unknown   \n",
              "2    Earth (Replacement Dimension)   \n",
              "3    Earth (Replacement Dimension)   \n",
              "4    Earth (Replacement Dimension)   \n",
              "..                             ...   \n",
              "821      Earth (Unknown dimension)   \n",
              "822      Earth (Unknown dimension)   \n",
              "823      Earth (Unknown dimension)   \n",
              "824      Earth (Unknown dimension)   \n",
              "825  Earth (Replacement Dimension)   \n",
              "\n",
              "                                              location  \\\n",
              "0    {'name': 'Citadel of Ricks', 'url': 'https://r...   \n",
              "1    {'name': 'Citadel of Ricks', 'url': 'https://r...   \n",
              "2    {'name': 'Earth (Replacement Dimension)', 'url...   \n",
              "3    {'name': 'Earth (Replacement Dimension)', 'url...   \n",
              "4    {'name': 'Earth (Replacement Dimension)', 'url...   \n",
              "..                                                 ...   \n",
              "821  {'name': 'Earth (Unknown dimension)', 'url': '...   \n",
              "822  {'name': 'Earth (Unknown dimension)', 'url': '...   \n",
              "823  {'name': 'Earth (Unknown dimension)', 'url': '...   \n",
              "824  {'name': 'Earth (Unknown dimension)', 'url': '...   \n",
              "825  {'name': 'Earth (Replacement Dimension)', 'url...   \n",
              "\n",
              "                                                 image  \\\n",
              "0    https://rickandmortyapi.com/api/character/avat...   \n",
              "1    https://rickandmortyapi.com/api/character/avat...   \n",
              "2    https://rickandmortyapi.com/api/character/avat...   \n",
              "3    https://rickandmortyapi.com/api/character/avat...   \n",
              "4    https://rickandmortyapi.com/api/character/avat...   \n",
              "..                                                 ...   \n",
              "821  https://rickandmortyapi.com/api/character/avat...   \n",
              "822  https://rickandmortyapi.com/api/character/avat...   \n",
              "823  https://rickandmortyapi.com/api/character/avat...   \n",
              "824  https://rickandmortyapi.com/api/character/avat...   \n",
              "825  https://rickandmortyapi.com/api/character/avat...   \n",
              "\n",
              "                                               episode  \\\n",
              "0    [https://rickandmortyapi.com/api/episode/1, ht...   \n",
              "1    [https://rickandmortyapi.com/api/episode/1, ht...   \n",
              "2    [https://rickandmortyapi.com/api/episode/6, ht...   \n",
              "3    [https://rickandmortyapi.com/api/episode/6, ht...   \n",
              "4    [https://rickandmortyapi.com/api/episode/6, ht...   \n",
              "..                                                 ...   \n",
              "821       [https://rickandmortyapi.com/api/episode/51]   \n",
              "822       [https://rickandmortyapi.com/api/episode/51]   \n",
              "823       [https://rickandmortyapi.com/api/episode/51]   \n",
              "824       [https://rickandmortyapi.com/api/episode/51]   \n",
              "825        [https://rickandmortyapi.com/api/episode/9]   \n",
              "\n",
              "                                               url                   created  \n",
              "0      https://rickandmortyapi.com/api/character/1  2017-11-04T18:48:46.250Z  \n",
              "1      https://rickandmortyapi.com/api/character/2  2017-11-04T18:50:21.651Z  \n",
              "2      https://rickandmortyapi.com/api/character/3  2017-11-04T19:09:56.428Z  \n",
              "3      https://rickandmortyapi.com/api/character/4  2017-11-04T19:22:43.665Z  \n",
              "4      https://rickandmortyapi.com/api/character/5  2017-11-04T19:26:56.301Z  \n",
              "..                                             ...                       ...  \n",
              "821  https://rickandmortyapi.com/api/character/822  2021-11-02T17:18:31.934Z  \n",
              "822  https://rickandmortyapi.com/api/character/823  2021-11-02T17:19:00.951Z  \n",
              "823  https://rickandmortyapi.com/api/character/824  2021-11-02T17:19:47.957Z  \n",
              "824  https://rickandmortyapi.com/api/character/825  2021-11-02T17:20:14.305Z  \n",
              "825  https://rickandmortyapi.com/api/character/826  2021-11-02T17:24:37.458Z  \n",
              "\n",
              "[826 rows x 12 columns]"
            ]
          },
          "execution_count": 20,
          "metadata": {},
          "output_type": "execute_result"
        }
      ],
      "source": [
        "df"
      ]
    },
    {
      "cell_type": "code",
      "execution_count": 21,
      "metadata": {
        "colab": {
          "base_uri": "https://localhost:8080/",
          "height": 337
        },
        "id": "1hfV9nONOhc-",
        "outputId": "b3e0faf6-b2f9-4ca8-f637-cda9a7ff9c25"
      },
      "outputs": [],
      "source": [
        "#hago lo mismo con la columna location \n",
        "def limpiar_origin(row):\n",
        "    if row and 'name' in row:\n",
        "        return row['name']\n",
        "    else:\n",
        "        return None\n",
        "\n",
        "# Aplica la función a la columna 'origin'\n",
        "df['location'] = df['location'].apply(limpiar_origin)"
      ]
    },
    {
      "cell_type": "code",
      "execution_count": 22,
      "metadata": {},
      "outputs": [
        {
          "data": {
            "text/html": [
              "<div>\n",
              "<style scoped>\n",
              "    .dataframe tbody tr th:only-of-type {\n",
              "        vertical-align: middle;\n",
              "    }\n",
              "\n",
              "    .dataframe tbody tr th {\n",
              "        vertical-align: top;\n",
              "    }\n",
              "\n",
              "    .dataframe thead th {\n",
              "        text-align: right;\n",
              "    }\n",
              "</style>\n",
              "<table border=\"1\" class=\"dataframe\">\n",
              "  <thead>\n",
              "    <tr style=\"text-align: right;\">\n",
              "      <th></th>\n",
              "      <th>id</th>\n",
              "      <th>name</th>\n",
              "      <th>status</th>\n",
              "      <th>species</th>\n",
              "      <th>type</th>\n",
              "      <th>gender</th>\n",
              "      <th>origin</th>\n",
              "      <th>location</th>\n",
              "      <th>image</th>\n",
              "      <th>episode</th>\n",
              "      <th>url</th>\n",
              "      <th>created</th>\n",
              "    </tr>\n",
              "  </thead>\n",
              "  <tbody>\n",
              "    <tr>\n",
              "      <th>0</th>\n",
              "      <td>1</td>\n",
              "      <td>Rick Sanchez</td>\n",
              "      <td>Alive</td>\n",
              "      <td>Human</td>\n",
              "      <td></td>\n",
              "      <td>Male</td>\n",
              "      <td>Earth (C-137)</td>\n",
              "      <td>Citadel of Ricks</td>\n",
              "      <td>https://rickandmortyapi.com/api/character/avat...</td>\n",
              "      <td>[https://rickandmortyapi.com/api/episode/1, ht...</td>\n",
              "      <td>https://rickandmortyapi.com/api/character/1</td>\n",
              "      <td>2017-11-04T18:48:46.250Z</td>\n",
              "    </tr>\n",
              "    <tr>\n",
              "      <th>1</th>\n",
              "      <td>2</td>\n",
              "      <td>Morty Smith</td>\n",
              "      <td>Alive</td>\n",
              "      <td>Human</td>\n",
              "      <td></td>\n",
              "      <td>Male</td>\n",
              "      <td>unknown</td>\n",
              "      <td>Citadel of Ricks</td>\n",
              "      <td>https://rickandmortyapi.com/api/character/avat...</td>\n",
              "      <td>[https://rickandmortyapi.com/api/episode/1, ht...</td>\n",
              "      <td>https://rickandmortyapi.com/api/character/2</td>\n",
              "      <td>2017-11-04T18:50:21.651Z</td>\n",
              "    </tr>\n",
              "    <tr>\n",
              "      <th>2</th>\n",
              "      <td>3</td>\n",
              "      <td>Summer Smith</td>\n",
              "      <td>Alive</td>\n",
              "      <td>Human</td>\n",
              "      <td></td>\n",
              "      <td>Female</td>\n",
              "      <td>Earth (Replacement Dimension)</td>\n",
              "      <td>Earth (Replacement Dimension)</td>\n",
              "      <td>https://rickandmortyapi.com/api/character/avat...</td>\n",
              "      <td>[https://rickandmortyapi.com/api/episode/6, ht...</td>\n",
              "      <td>https://rickandmortyapi.com/api/character/3</td>\n",
              "      <td>2017-11-04T19:09:56.428Z</td>\n",
              "    </tr>\n",
              "    <tr>\n",
              "      <th>3</th>\n",
              "      <td>4</td>\n",
              "      <td>Beth Smith</td>\n",
              "      <td>Alive</td>\n",
              "      <td>Human</td>\n",
              "      <td></td>\n",
              "      <td>Female</td>\n",
              "      <td>Earth (Replacement Dimension)</td>\n",
              "      <td>Earth (Replacement Dimension)</td>\n",
              "      <td>https://rickandmortyapi.com/api/character/avat...</td>\n",
              "      <td>[https://rickandmortyapi.com/api/episode/6, ht...</td>\n",
              "      <td>https://rickandmortyapi.com/api/character/4</td>\n",
              "      <td>2017-11-04T19:22:43.665Z</td>\n",
              "    </tr>\n",
              "    <tr>\n",
              "      <th>4</th>\n",
              "      <td>5</td>\n",
              "      <td>Jerry Smith</td>\n",
              "      <td>Alive</td>\n",
              "      <td>Human</td>\n",
              "      <td></td>\n",
              "      <td>Male</td>\n",
              "      <td>Earth (Replacement Dimension)</td>\n",
              "      <td>Earth (Replacement Dimension)</td>\n",
              "      <td>https://rickandmortyapi.com/api/character/avat...</td>\n",
              "      <td>[https://rickandmortyapi.com/api/episode/6, ht...</td>\n",
              "      <td>https://rickandmortyapi.com/api/character/5</td>\n",
              "      <td>2017-11-04T19:26:56.301Z</td>\n",
              "    </tr>\n",
              "    <tr>\n",
              "      <th>...</th>\n",
              "      <td>...</td>\n",
              "      <td>...</td>\n",
              "      <td>...</td>\n",
              "      <td>...</td>\n",
              "      <td>...</td>\n",
              "      <td>...</td>\n",
              "      <td>...</td>\n",
              "      <td>...</td>\n",
              "      <td>...</td>\n",
              "      <td>...</td>\n",
              "      <td>...</td>\n",
              "      <td>...</td>\n",
              "    </tr>\n",
              "    <tr>\n",
              "      <th>821</th>\n",
              "      <td>822</td>\n",
              "      <td>Young Jerry</td>\n",
              "      <td>unknown</td>\n",
              "      <td>Human</td>\n",
              "      <td></td>\n",
              "      <td>Male</td>\n",
              "      <td>Earth (Unknown dimension)</td>\n",
              "      <td>Earth (Unknown dimension)</td>\n",
              "      <td>https://rickandmortyapi.com/api/character/avat...</td>\n",
              "      <td>[https://rickandmortyapi.com/api/episode/51]</td>\n",
              "      <td>https://rickandmortyapi.com/api/character/822</td>\n",
              "      <td>2021-11-02T17:18:31.934Z</td>\n",
              "    </tr>\n",
              "    <tr>\n",
              "      <th>822</th>\n",
              "      <td>823</td>\n",
              "      <td>Young Beth</td>\n",
              "      <td>unknown</td>\n",
              "      <td>Human</td>\n",
              "      <td></td>\n",
              "      <td>Female</td>\n",
              "      <td>Earth (Unknown dimension)</td>\n",
              "      <td>Earth (Unknown dimension)</td>\n",
              "      <td>https://rickandmortyapi.com/api/character/avat...</td>\n",
              "      <td>[https://rickandmortyapi.com/api/episode/51]</td>\n",
              "      <td>https://rickandmortyapi.com/api/character/823</td>\n",
              "      <td>2021-11-02T17:19:00.951Z</td>\n",
              "    </tr>\n",
              "    <tr>\n",
              "      <th>823</th>\n",
              "      <td>824</td>\n",
              "      <td>Young Beth</td>\n",
              "      <td>unknown</td>\n",
              "      <td>Human</td>\n",
              "      <td></td>\n",
              "      <td>Female</td>\n",
              "      <td>Earth (Unknown dimension)</td>\n",
              "      <td>Earth (Unknown dimension)</td>\n",
              "      <td>https://rickandmortyapi.com/api/character/avat...</td>\n",
              "      <td>[https://rickandmortyapi.com/api/episode/51]</td>\n",
              "      <td>https://rickandmortyapi.com/api/character/824</td>\n",
              "      <td>2021-11-02T17:19:47.957Z</td>\n",
              "    </tr>\n",
              "    <tr>\n",
              "      <th>824</th>\n",
              "      <td>825</td>\n",
              "      <td>Young Jerry</td>\n",
              "      <td>unknown</td>\n",
              "      <td>Human</td>\n",
              "      <td></td>\n",
              "      <td>Male</td>\n",
              "      <td>Earth (Unknown dimension)</td>\n",
              "      <td>Earth (Unknown dimension)</td>\n",
              "      <td>https://rickandmortyapi.com/api/character/avat...</td>\n",
              "      <td>[https://rickandmortyapi.com/api/episode/51]</td>\n",
              "      <td>https://rickandmortyapi.com/api/character/825</td>\n",
              "      <td>2021-11-02T17:20:14.305Z</td>\n",
              "    </tr>\n",
              "    <tr>\n",
              "      <th>825</th>\n",
              "      <td>826</td>\n",
              "      <td>Butter Robot</td>\n",
              "      <td>Alive</td>\n",
              "      <td>Robot</td>\n",
              "      <td>Passing Butter Robot</td>\n",
              "      <td>Genderless</td>\n",
              "      <td>Earth (Replacement Dimension)</td>\n",
              "      <td>Earth (Replacement Dimension)</td>\n",
              "      <td>https://rickandmortyapi.com/api/character/avat...</td>\n",
              "      <td>[https://rickandmortyapi.com/api/episode/9]</td>\n",
              "      <td>https://rickandmortyapi.com/api/character/826</td>\n",
              "      <td>2021-11-02T17:24:37.458Z</td>\n",
              "    </tr>\n",
              "  </tbody>\n",
              "</table>\n",
              "<p>826 rows × 12 columns</p>\n",
              "</div>"
            ],
            "text/plain": [
              "      id          name   status species                  type      gender  \\\n",
              "0      1  Rick Sanchez    Alive   Human                              Male   \n",
              "1      2   Morty Smith    Alive   Human                              Male   \n",
              "2      3  Summer Smith    Alive   Human                            Female   \n",
              "3      4    Beth Smith    Alive   Human                            Female   \n",
              "4      5   Jerry Smith    Alive   Human                              Male   \n",
              "..   ...           ...      ...     ...                   ...         ...   \n",
              "821  822   Young Jerry  unknown   Human                              Male   \n",
              "822  823    Young Beth  unknown   Human                            Female   \n",
              "823  824    Young Beth  unknown   Human                            Female   \n",
              "824  825   Young Jerry  unknown   Human                              Male   \n",
              "825  826  Butter Robot    Alive   Robot  Passing Butter Robot  Genderless   \n",
              "\n",
              "                            origin                       location  \\\n",
              "0                    Earth (C-137)               Citadel of Ricks   \n",
              "1                          unknown               Citadel of Ricks   \n",
              "2    Earth (Replacement Dimension)  Earth (Replacement Dimension)   \n",
              "3    Earth (Replacement Dimension)  Earth (Replacement Dimension)   \n",
              "4    Earth (Replacement Dimension)  Earth (Replacement Dimension)   \n",
              "..                             ...                            ...   \n",
              "821      Earth (Unknown dimension)      Earth (Unknown dimension)   \n",
              "822      Earth (Unknown dimension)      Earth (Unknown dimension)   \n",
              "823      Earth (Unknown dimension)      Earth (Unknown dimension)   \n",
              "824      Earth (Unknown dimension)      Earth (Unknown dimension)   \n",
              "825  Earth (Replacement Dimension)  Earth (Replacement Dimension)   \n",
              "\n",
              "                                                 image  \\\n",
              "0    https://rickandmortyapi.com/api/character/avat...   \n",
              "1    https://rickandmortyapi.com/api/character/avat...   \n",
              "2    https://rickandmortyapi.com/api/character/avat...   \n",
              "3    https://rickandmortyapi.com/api/character/avat...   \n",
              "4    https://rickandmortyapi.com/api/character/avat...   \n",
              "..                                                 ...   \n",
              "821  https://rickandmortyapi.com/api/character/avat...   \n",
              "822  https://rickandmortyapi.com/api/character/avat...   \n",
              "823  https://rickandmortyapi.com/api/character/avat...   \n",
              "824  https://rickandmortyapi.com/api/character/avat...   \n",
              "825  https://rickandmortyapi.com/api/character/avat...   \n",
              "\n",
              "                                               episode  \\\n",
              "0    [https://rickandmortyapi.com/api/episode/1, ht...   \n",
              "1    [https://rickandmortyapi.com/api/episode/1, ht...   \n",
              "2    [https://rickandmortyapi.com/api/episode/6, ht...   \n",
              "3    [https://rickandmortyapi.com/api/episode/6, ht...   \n",
              "4    [https://rickandmortyapi.com/api/episode/6, ht...   \n",
              "..                                                 ...   \n",
              "821       [https://rickandmortyapi.com/api/episode/51]   \n",
              "822       [https://rickandmortyapi.com/api/episode/51]   \n",
              "823       [https://rickandmortyapi.com/api/episode/51]   \n",
              "824       [https://rickandmortyapi.com/api/episode/51]   \n",
              "825        [https://rickandmortyapi.com/api/episode/9]   \n",
              "\n",
              "                                               url                   created  \n",
              "0      https://rickandmortyapi.com/api/character/1  2017-11-04T18:48:46.250Z  \n",
              "1      https://rickandmortyapi.com/api/character/2  2017-11-04T18:50:21.651Z  \n",
              "2      https://rickandmortyapi.com/api/character/3  2017-11-04T19:09:56.428Z  \n",
              "3      https://rickandmortyapi.com/api/character/4  2017-11-04T19:22:43.665Z  \n",
              "4      https://rickandmortyapi.com/api/character/5  2017-11-04T19:26:56.301Z  \n",
              "..                                             ...                       ...  \n",
              "821  https://rickandmortyapi.com/api/character/822  2021-11-02T17:18:31.934Z  \n",
              "822  https://rickandmortyapi.com/api/character/823  2021-11-02T17:19:00.951Z  \n",
              "823  https://rickandmortyapi.com/api/character/824  2021-11-02T17:19:47.957Z  \n",
              "824  https://rickandmortyapi.com/api/character/825  2021-11-02T17:20:14.305Z  \n",
              "825  https://rickandmortyapi.com/api/character/826  2021-11-02T17:24:37.458Z  \n",
              "\n",
              "[826 rows x 12 columns]"
            ]
          },
          "execution_count": 22,
          "metadata": {},
          "output_type": "execute_result"
        }
      ],
      "source": [
        "df"
      ]
    },
    {
      "cell_type": "code",
      "execution_count": 24,
      "metadata": {
        "colab": {
          "base_uri": "https://localhost:8080/",
          "height": 206
        },
        "id": "6nzoxXRnOlV7",
        "outputId": "e9d4a902-94ff-4fdc-8df5-98b6e2c55c23"
      },
      "outputs": [
        {
          "data": {
            "text/html": [
              "<div>\n",
              "<style scoped>\n",
              "    .dataframe tbody tr th:only-of-type {\n",
              "        vertical-align: middle;\n",
              "    }\n",
              "\n",
              "    .dataframe tbody tr th {\n",
              "        vertical-align: top;\n",
              "    }\n",
              "\n",
              "    .dataframe thead th {\n",
              "        text-align: right;\n",
              "    }\n",
              "</style>\n",
              "<table border=\"1\" class=\"dataframe\">\n",
              "  <thead>\n",
              "    <tr style=\"text-align: right;\">\n",
              "      <th></th>\n",
              "      <th>id</th>\n",
              "      <th>name</th>\n",
              "      <th>status</th>\n",
              "      <th>species</th>\n",
              "      <th>type</th>\n",
              "      <th>gender</th>\n",
              "      <th>origin</th>\n",
              "      <th>location</th>\n",
              "      <th>episode</th>\n",
              "    </tr>\n",
              "  </thead>\n",
              "  <tbody>\n",
              "    <tr>\n",
              "      <th>0</th>\n",
              "      <td>1</td>\n",
              "      <td>Rick Sanchez</td>\n",
              "      <td>Alive</td>\n",
              "      <td>Human</td>\n",
              "      <td></td>\n",
              "      <td>Male</td>\n",
              "      <td>Earth (C-137)</td>\n",
              "      <td>Citadel of Ricks</td>\n",
              "      <td>[https://rickandmortyapi.com/api/episode/1, ht...</td>\n",
              "    </tr>\n",
              "    <tr>\n",
              "      <th>1</th>\n",
              "      <td>2</td>\n",
              "      <td>Morty Smith</td>\n",
              "      <td>Alive</td>\n",
              "      <td>Human</td>\n",
              "      <td></td>\n",
              "      <td>Male</td>\n",
              "      <td>unknown</td>\n",
              "      <td>Citadel of Ricks</td>\n",
              "      <td>[https://rickandmortyapi.com/api/episode/1, ht...</td>\n",
              "    </tr>\n",
              "    <tr>\n",
              "      <th>2</th>\n",
              "      <td>3</td>\n",
              "      <td>Summer Smith</td>\n",
              "      <td>Alive</td>\n",
              "      <td>Human</td>\n",
              "      <td></td>\n",
              "      <td>Female</td>\n",
              "      <td>Earth (Replacement Dimension)</td>\n",
              "      <td>Earth (Replacement Dimension)</td>\n",
              "      <td>[https://rickandmortyapi.com/api/episode/6, ht...</td>\n",
              "    </tr>\n",
              "    <tr>\n",
              "      <th>3</th>\n",
              "      <td>4</td>\n",
              "      <td>Beth Smith</td>\n",
              "      <td>Alive</td>\n",
              "      <td>Human</td>\n",
              "      <td></td>\n",
              "      <td>Female</td>\n",
              "      <td>Earth (Replacement Dimension)</td>\n",
              "      <td>Earth (Replacement Dimension)</td>\n",
              "      <td>[https://rickandmortyapi.com/api/episode/6, ht...</td>\n",
              "    </tr>\n",
              "    <tr>\n",
              "      <th>4</th>\n",
              "      <td>5</td>\n",
              "      <td>Jerry Smith</td>\n",
              "      <td>Alive</td>\n",
              "      <td>Human</td>\n",
              "      <td></td>\n",
              "      <td>Male</td>\n",
              "      <td>Earth (Replacement Dimension)</td>\n",
              "      <td>Earth (Replacement Dimension)</td>\n",
              "      <td>[https://rickandmortyapi.com/api/episode/6, ht...</td>\n",
              "    </tr>\n",
              "    <tr>\n",
              "      <th>...</th>\n",
              "      <td>...</td>\n",
              "      <td>...</td>\n",
              "      <td>...</td>\n",
              "      <td>...</td>\n",
              "      <td>...</td>\n",
              "      <td>...</td>\n",
              "      <td>...</td>\n",
              "      <td>...</td>\n",
              "      <td>...</td>\n",
              "    </tr>\n",
              "    <tr>\n",
              "      <th>821</th>\n",
              "      <td>822</td>\n",
              "      <td>Young Jerry</td>\n",
              "      <td>unknown</td>\n",
              "      <td>Human</td>\n",
              "      <td></td>\n",
              "      <td>Male</td>\n",
              "      <td>Earth (Unknown dimension)</td>\n",
              "      <td>Earth (Unknown dimension)</td>\n",
              "      <td>[https://rickandmortyapi.com/api/episode/51]</td>\n",
              "    </tr>\n",
              "    <tr>\n",
              "      <th>822</th>\n",
              "      <td>823</td>\n",
              "      <td>Young Beth</td>\n",
              "      <td>unknown</td>\n",
              "      <td>Human</td>\n",
              "      <td></td>\n",
              "      <td>Female</td>\n",
              "      <td>Earth (Unknown dimension)</td>\n",
              "      <td>Earth (Unknown dimension)</td>\n",
              "      <td>[https://rickandmortyapi.com/api/episode/51]</td>\n",
              "    </tr>\n",
              "    <tr>\n",
              "      <th>823</th>\n",
              "      <td>824</td>\n",
              "      <td>Young Beth</td>\n",
              "      <td>unknown</td>\n",
              "      <td>Human</td>\n",
              "      <td></td>\n",
              "      <td>Female</td>\n",
              "      <td>Earth (Unknown dimension)</td>\n",
              "      <td>Earth (Unknown dimension)</td>\n",
              "      <td>[https://rickandmortyapi.com/api/episode/51]</td>\n",
              "    </tr>\n",
              "    <tr>\n",
              "      <th>824</th>\n",
              "      <td>825</td>\n",
              "      <td>Young Jerry</td>\n",
              "      <td>unknown</td>\n",
              "      <td>Human</td>\n",
              "      <td></td>\n",
              "      <td>Male</td>\n",
              "      <td>Earth (Unknown dimension)</td>\n",
              "      <td>Earth (Unknown dimension)</td>\n",
              "      <td>[https://rickandmortyapi.com/api/episode/51]</td>\n",
              "    </tr>\n",
              "    <tr>\n",
              "      <th>825</th>\n",
              "      <td>826</td>\n",
              "      <td>Butter Robot</td>\n",
              "      <td>Alive</td>\n",
              "      <td>Robot</td>\n",
              "      <td>Passing Butter Robot</td>\n",
              "      <td>Genderless</td>\n",
              "      <td>Earth (Replacement Dimension)</td>\n",
              "      <td>Earth (Replacement Dimension)</td>\n",
              "      <td>[https://rickandmortyapi.com/api/episode/9]</td>\n",
              "    </tr>\n",
              "  </tbody>\n",
              "</table>\n",
              "<p>826 rows × 9 columns</p>\n",
              "</div>"
            ],
            "text/plain": [
              "      id          name   status species                  type      gender  \\\n",
              "0      1  Rick Sanchez    Alive   Human                              Male   \n",
              "1      2   Morty Smith    Alive   Human                              Male   \n",
              "2      3  Summer Smith    Alive   Human                            Female   \n",
              "3      4    Beth Smith    Alive   Human                            Female   \n",
              "4      5   Jerry Smith    Alive   Human                              Male   \n",
              "..   ...           ...      ...     ...                   ...         ...   \n",
              "821  822   Young Jerry  unknown   Human                              Male   \n",
              "822  823    Young Beth  unknown   Human                            Female   \n",
              "823  824    Young Beth  unknown   Human                            Female   \n",
              "824  825   Young Jerry  unknown   Human                              Male   \n",
              "825  826  Butter Robot    Alive   Robot  Passing Butter Robot  Genderless   \n",
              "\n",
              "                            origin                       location  \\\n",
              "0                    Earth (C-137)               Citadel of Ricks   \n",
              "1                          unknown               Citadel of Ricks   \n",
              "2    Earth (Replacement Dimension)  Earth (Replacement Dimension)   \n",
              "3    Earth (Replacement Dimension)  Earth (Replacement Dimension)   \n",
              "4    Earth (Replacement Dimension)  Earth (Replacement Dimension)   \n",
              "..                             ...                            ...   \n",
              "821      Earth (Unknown dimension)      Earth (Unknown dimension)   \n",
              "822      Earth (Unknown dimension)      Earth (Unknown dimension)   \n",
              "823      Earth (Unknown dimension)      Earth (Unknown dimension)   \n",
              "824      Earth (Unknown dimension)      Earth (Unknown dimension)   \n",
              "825  Earth (Replacement Dimension)  Earth (Replacement Dimension)   \n",
              "\n",
              "                                               episode  \n",
              "0    [https://rickandmortyapi.com/api/episode/1, ht...  \n",
              "1    [https://rickandmortyapi.com/api/episode/1, ht...  \n",
              "2    [https://rickandmortyapi.com/api/episode/6, ht...  \n",
              "3    [https://rickandmortyapi.com/api/episode/6, ht...  \n",
              "4    [https://rickandmortyapi.com/api/episode/6, ht...  \n",
              "..                                                 ...  \n",
              "821       [https://rickandmortyapi.com/api/episode/51]  \n",
              "822       [https://rickandmortyapi.com/api/episode/51]  \n",
              "823       [https://rickandmortyapi.com/api/episode/51]  \n",
              "824       [https://rickandmortyapi.com/api/episode/51]  \n",
              "825        [https://rickandmortyapi.com/api/episode/9]  \n",
              "\n",
              "[826 rows x 9 columns]"
            ]
          },
          "execution_count": 24,
          "metadata": {},
          "output_type": "execute_result"
        }
      ],
      "source": [
        "#elimino la columna image, url y created ya que no las vamos a usar en este ejercicio\n",
        "\n",
        "df.drop(['image', 'url', 'created'], axis=1)"
      ]
    },
    {
      "cell_type": "code",
      "execution_count": 30,
      "metadata": {
        "colab": {
          "base_uri": "https://localhost:8080/",
          "height": 542
        },
        "id": "FOKEs8RtO8la",
        "outputId": "f2653cd3-ded5-4708-b4b7-055bc8448849"
      },
      "outputs": [
        {
          "data": {
            "image/png": "[encoded data removed]",
            "text/plain": [
              "<Figure size 640x480 with 1 Axes>"
            ]
          },
          "metadata": {},
          "output_type": "display_data"
        }
      ],
      "source": [
        "#Proporción de géneros \n",
        "\n",
        "generos = df['gender'].value_counts()\n",
        "\n",
        "import matplotlib.pyplot as plt\n",
        "\n",
        "plt.pie(generos, labels=generos.index)\n",
        "plt.show()\n"
      ]
    },
    {
      "cell_type": "code",
      "execution_count": 32,
      "metadata": {
        "colab": {
          "base_uri": "https://localhost:8080/",
          "height": 717
        },
        "id": "hzQImBrcPIbC",
        "outputId": "b4a9f0af-7d53-4a00-837d-c10f4e1c6ef5"
      },
      "outputs": [
        {
          "data": {
            "application/vnd.plotly.v1+json": {
              "config": {
                "plotlyServerURL": "https://plot.ly"
              },
              "data": [
                {
                  "branchvalues": "total",
                  "domain": {
                    "x": [
                      0,
                      1
                    ],
                    "y": [
                      0,
                      1
                    ]
                  },
                  "hovertemplate": "labels=%{label}<br>value=%{value}<br>parent=%{parent}<br>id=%{id}<extra></extra>",
                  "ids": [
                    "Alien",
                    "Animal",
                    "Cronenberg",
                    "Disease",
                    "Human",
                    "Humanoid",
                    "Mythological Creature",
                    "Poopybutthole",
                    "Robot",
                    "unknown"
                  ],
                  "labels": [
                    "Alien",
                    "Animal",
                    "Cronenberg",
                    "Disease",
                    "Human",
                    "Humanoid",
                    "Mythological Creature",
                    "Poopybutthole",
                    "Robot",
                    "unknown"
                  ],
                  "name": "",
                  "parents": [
                    "",
                    "",
                    "",
                    "",
                    "",
                    "",
                    "",
                    "",
                    "",
                    ""
                  ],
                  "type": "treemap",
                  "values": [
                    205,
                    55,
                    8,
                    6,
                    366,
                    68,
                    46,
                    8,
                    51,
                    13
                  ]
                }
              ],
              "layout": {
                "height": 700,
                "legend": {
                  "tracegroupgap": 0
                },
                "template": {
                  "data": {
                    "bar": [
                      {
                        "error_x": {
                          "color": "#f2f5fa"
                        },
                        "error_y": {
                          "color": "#f2f5fa"
                        },
                        "marker": {
                          "line": {
                            "color": "rgb(17,17,17)",
                            "width": 0.5
                          },
                          "pattern": {
                            "fillmode": "overlay",
                            "size": 10,
                            "solidity": 0.2
                          }
                        },
                        "type": "bar"
                      }
                    ],
                    "barpolar": [
                      {
                        "marker": {
                          "line": {
                            "color": "rgb(17,17,17)",
                            "width": 0.5
                          },
                          "pattern": {
                            "fillmode": "overlay",
                            "size": 10,
                            "solidity": 0.2
                          }
                        },
                        "type": "barpolar"
                      }
                    ],
                    "carpet": [
                      {
                        "aaxis": {
                          "endlinecolor": "#A2B1C6",
                          "gridcolor": "#506784",
                          "linecolor": "#506784",
                          "minorgridcolor": "#506784",
                          "startlinecolor": "#A2B1C6"
                        },
                        "baxis": {
                          "endlinecolor": "#A2B1C6",
                          "gridcolor": "#506784",
                          "linecolor": "#506784",
                          "minorgridcolor": "#506784",
                          "startlinecolor": "#A2B1C6"
                        },
                        "type": "carpet"
                      }
                    ],
                    "choropleth": [
                      {
                        "colorbar": {
                          "outlinewidth": 0,
                          "ticks": ""
                        },
                        "type": "choropleth"
                      }
                    ],
                    "contour": [
                      {
                        "colorbar": {
                          "outlinewidth": 0,
                          "ticks": ""
                        },
                        "colorscale": [
                          [
                            0,
                            "#0d0887"
                          ],
                          [
                            0.1111111111111111,
                            "#46039f"
                          ],
                          [
                            0.2222222222222222,
                            "#7201a8"
                          ],
                          [
                            0.3333333333333333,
                            "#9c179e"
                          ],
                          [
                            0.4444444444444444,
                            "#bd3786"
                          ],
                          [
                            0.5555555555555556,
                            "#d8576b"
                          ],
                          [
                            0.6666666666666666,
                            "#ed7953"
                          ],
                          [
                            0.7777777777777778,
                            "#fb9f3a"
                          ],
                          [
                            0.8888888888888888,
                            "#fdca26"
                          ],
                          [
                            1,
                            "#f0f921"
                          ]
                        ],
                        "type": "contour"
                      }
                    ],
                    "contourcarpet": [
                      {
                        "colorbar": {
                          "outlinewidth": 0,
                          "ticks": ""
                        },
                        "type": "contourcarpet"
                      }
                    ],
                    "heatmap": [
                      {
                        "colorbar": {
                          "outlinewidth": 0,
                          "ticks": ""
                        },
                        "colorscale": [
                          [
                            0,
                            "#0d0887"
                          ],
                          [
                            0.1111111111111111,
                            "#46039f"
                          ],
                          [
                            0.2222222222222222,
                            "#7201a8"
                          ],
                          [
                            0.3333333333333333,
                            "#9c179e"
                          ],
                          [
                            0.4444444444444444,
                            "#bd3786"
                          ],
                          [
                            0.5555555555555556,
                            "#d8576b"
                          ],
                          [
                            0.6666666666666666,
                            "#ed7953"
                          ],
                          [
                            0.7777777777777778,
                            "#fb9f3a"
                          ],
                          [
                            0.8888888888888888,
                            "#fdca26"
                          ],
                          [
                            1,
                            "#f0f921"
                          ]
                        ],
                        "type": "heatmap"
                      }
                    ],
                    "heatmapgl": [
                      {
                        "colorbar": {
                          "outlinewidth": 0,
                          "ticks": ""
                        },
                        "colorscale": [
                          [
                            0,
                            "#0d0887"
                          ],
                          [
                            0.1111111111111111,
                            "#46039f"
                          ],
                          [
                            0.2222222222222222,
                            "#7201a8"
                          ],
                          [
                            0.3333333333333333,
                            "#9c179e"
                          ],
                          [
                            0.4444444444444444,
                            "#bd3786"
                          ],
                          [
                            0.5555555555555556,
                            "#d8576b"
                          ],
                          [
                            0.6666666666666666,
                            "#ed7953"
                          ],
                          [
                            0.7777777777777778,
                            "#fb9f3a"
                          ],
                          [
                            0.8888888888888888,
                            "#fdca26"
                          ],
                          [
                            1,
                            "#f0f921"
                          ]
                        ],
                        "type": "heatmapgl"
                      }
                    ],
                    "histogram": [
                      {
                        "marker": {
                          "pattern": {
                            "fillmode": "overlay",
                            "size": 10,
                            "solidity": 0.2
                          }
                        },
                        "type": "histogram"
                      }
                    ],
                    "histogram2d": [
                      {
                        "colorbar": {
                          "outlinewidth": 0,
                          "ticks": ""
                        },
                        "colorscale": [
                          [
                            0,
                            "#0d0887"
                          ],
                          [
                            0.1111111111111111,
                            "#46039f"
                          ],
                          [
                            0.2222222222222222,
                            "#7201a8"
                          ],
                          [
                            0.3333333333333333,
                            "#9c179e"
                          ],
                          [
                            0.4444444444444444,
                            "#bd3786"
                          ],
                          [
                            0.5555555555555556,
                            "#d8576b"
                          ],
                          [
                            0.6666666666666666,
                            "#ed7953"
                          ],
                          [
                            0.7777777777777778,
                            "#fb9f3a"
                          ],
                          [
                            0.8888888888888888,
                            "#fdca26"
                          ],
                          [
                            1,
                            "#f0f921"
                          ]
                        ],
                        "type": "histogram2d"
                      }
                    ],
                    "histogram2dcontour": [
                      {
                        "colorbar": {
                          "outlinewidth": 0,
                          "ticks": ""
                        },
                        "colorscale": [
                          [
                            0,
                            "#0d0887"
                          ],
                          [
                            0.1111111111111111,
                            "#46039f"
                          ],
                          [
                            0.2222222222222222,
                            "#7201a8"
                          ],
                          [
                            0.3333333333333333,
                            "#9c179e"
                          ],
                          [
                            0.4444444444444444,
                            "#bd3786"
                          ],
                          [
                            0.5555555555555556,
                            "#d8576b"
                          ],
                          [
                            0.6666666666666666,
                            "#ed7953"
                          ],
                          [
                            0.7777777777777778,
                            "#fb9f3a"
                          ],
                          [
                            0.8888888888888888,
                            "#fdca26"
                          ],
                          [
                            1,
                            "#f0f921"
                          ]
                        ],
                        "type": "histogram2dcontour"
                      }
                    ],
                    "mesh3d": [
                      {
                        "colorbar": {
                          "outlinewidth": 0,
                          "ticks": ""
                        },
                        "type": "mesh3d"
                      }
                    ],
                    "parcoords": [
                      {
                        "line": {
                          "colorbar": {
                            "outlinewidth": 0,
                            "ticks": ""
                          }
                        },
                        "type": "parcoords"
                      }
                    ],
                    "pie": [
                      {
                        "automargin": true,
                        "type": "pie"
                      }
                    ],
                    "scatter": [
                      {
                        "marker": {
                          "line": {
                            "color": "#283442"
                          }
                        },
                        "type": "scatter"
                      }
                    ],
                    "scatter3d": [
                      {
                        "line": {
                          "colorbar": {
                            "outlinewidth": 0,
                            "ticks": ""
                          }
                        },
                        "marker": {
                          "colorbar": {
                            "outlinewidth": 0,
                            "ticks": ""
                          }
                        },
                        "type": "scatter3d"
                      }
                    ],
                    "scattercarpet": [
                      {
                        "marker": {
                          "colorbar": {
                            "outlinewidth": 0,
                            "ticks": ""
                          }
                        },
                        "type": "scattercarpet"
                      }
                    ],
                    "scattergeo": [
                      {
                        "marker": {
                          "colorbar": {
                            "outlinewidth": 0,
                            "ticks": ""
                          }
                        },
                        "type": "scattergeo"
                      }
                    ],
                    "scattergl": [
                      {
                        "marker": {
                          "line": {
                            "color": "#283442"
                          }
                        },
                        "type": "scattergl"
                      }
                    ],
                    "scattermapbox": [
                      {
                        "marker": {
                          "colorbar": {
                            "outlinewidth": 0,
                            "ticks": ""
                          }
                        },
                        "type": "scattermapbox"
                      }
                    ],
                    "scatterpolar": [
                      {
                        "marker": {
                          "colorbar": {
                            "outlinewidth": 0,
                            "ticks": ""
                          }
                        },
                        "type": "scatterpolar"
                      }
                    ],
                    "scatterpolargl": [
                      {
                        "marker": {
                          "colorbar": {
                            "outlinewidth": 0,
                            "ticks": ""
                          }
                        },
                        "type": "scatterpolargl"
                      }
                    ],
                    "scatterternary": [
                      {
                        "marker": {
                          "colorbar": {
                            "outlinewidth": 0,
                            "ticks": ""
                          }
                        },
                        "type": "scatterternary"
                      }
                    ],
                    "surface": [
                      {
                        "colorbar": {
                          "outlinewidth": 0,
                          "ticks": ""
                        },
                        "colorscale": [
                          [
                            0,
                            "#0d0887"
                          ],
                          [
                            0.1111111111111111,
                            "#46039f"
                          ],
                          [
                            0.2222222222222222,
                            "#7201a8"
                          ],
                          [
                            0.3333333333333333,
                            "#9c179e"
                          ],
                          [
                            0.4444444444444444,
                            "#bd3786"
                          ],
                          [
                            0.5555555555555556,
                            "#d8576b"
                          ],
                          [
                            0.6666666666666666,
                            "#ed7953"
                          ],
                          [
                            0.7777777777777778,
                            "#fb9f3a"
                          ],
                          [
                            0.8888888888888888,
                            "#fdca26"
                          ],
                          [
                            1,
                            "#f0f921"
                          ]
                        ],
                        "type": "surface"
                      }
                    ],
                    "table": [
                      {
                        "cells": {
                          "fill": {
                            "color": "#506784"
                          },
                          "line": {
                            "color": "rgb(17,17,17)"
                          }
                        },
                        "header": {
                          "fill": {
                            "color": "#2a3f5f"
                          },
                          "line": {
                            "color": "rgb(17,17,17)"
                          }
                        },
                        "type": "table"
                      }
                    ]
                  },
                  "layout": {
                    "annotationdefaults": {
                      "arrowcolor": "#f2f5fa",
                      "arrowhead": 0,
                      "arrowwidth": 1
                    },
                    "autotypenumbers": "strict",
                    "coloraxis": {
                      "colorbar": {
                        "outlinewidth": 0,
                        "ticks": ""
                      }
                    },
                    "colorscale": {
                      "diverging": [
                        [
                          0,
                          "#8e0152"
                        ],
                        [
                          0.1,
                          "#c51b7d"
                        ],
                        [
                          0.2,
                          "#de77ae"
                        ],
                        [
                          0.3,
                          "#f1b6da"
                        ],
                        [
                          0.4,
                          "#fde0ef"
                        ],
                        [
                          0.5,
                          "#f7f7f7"
                        ],
                        [
                          0.6,
                          "#e6f5d0"
                        ],
                        [
                          0.7,
                          "#b8e186"
                        ],
                        [
                          0.8,
                          "#7fbc41"
                        ],
                        [
                          0.9,
                          "#4d9221"
                        ],
                        [
                          1,
                          "#276419"
                        ]
                      ],
                      "sequential": [
                        [
                          0,
                          "#0d0887"
                        ],
                        [
                          0.1111111111111111,
                          "#46039f"
                        ],
                        [
                          0.2222222222222222,
                          "#7201a8"
                        ],
                        [
                          0.3333333333333333,
                          "#9c179e"
                        ],
                        [
                          0.4444444444444444,
                          "#bd3786"
                        ],
                        [
                          0.5555555555555556,
                          "#d8576b"
                        ],
                        [
                          0.6666666666666666,
                          "#ed7953"
                        ],
                        [
                          0.7777777777777778,
                          "#fb9f3a"
                        ],
                        [
                          0.8888888888888888,
                          "#fdca26"
                        ],
                        [
                          1,
                          "#f0f921"
                        ]
                      ],
                      "sequentialminus": [
                        [
                          0,
                          "#0d0887"
                        ],
                        [
                          0.1111111111111111,
                          "#46039f"
                        ],
                        [
                          0.2222222222222222,
                          "#7201a8"
                        ],
                        [
                          0.3333333333333333,
                          "#9c179e"
                        ],
                        [
                          0.4444444444444444,
                          "#bd3786"
                        ],
                        [
                          0.5555555555555556,
                          "#d8576b"
                        ],
                        [
                          0.6666666666666666,
                          "#ed7953"
                        ],
                        [
                          0.7777777777777778,
                          "#fb9f3a"
                        ],
                        [
                          0.8888888888888888,
                          "#fdca26"
                        ],
                        [
                          1,
                          "#f0f921"
                        ]
                      ]
                    },
                    "colorway": [
                      "#636efa",
                      "#EF553B",
                      "#00cc96",
                      "#ab63fa",
                      "#FFA15A",
                      "#19d3f3",
                      "#FF6692",
                      "#B6E880",
                      "#FF97FF",
                      "#FECB52"
                    ],
                    "font": {
                      "color": "#f2f5fa"
                    },
                    "geo": {
                      "bgcolor": "rgb(17,17,17)",
                      "lakecolor": "rgb(17,17,17)",
                      "landcolor": "rgb(17,17,17)",
                      "showlakes": true,
                      "showland": true,
                      "subunitcolor": "#506784"
                    },
                    "hoverlabel": {
                      "align": "left"
                    },
                    "hovermode": "closest",
                    "mapbox": {
                      "style": "dark"
                    },
                    "paper_bgcolor": "rgb(17,17,17)",
                    "plot_bgcolor": "rgb(17,17,17)",
                    "polar": {
                      "angularaxis": {
                        "gridcolor": "#506784",
                        "linecolor": "#506784",
                        "ticks": ""
                      },
                      "bgcolor": "rgb(17,17,17)",
                      "radialaxis": {
                        "gridcolor": "#506784",
                        "linecolor": "#506784",
                        "ticks": ""
                      }
                    },
                    "scene": {
                      "xaxis": {
                        "backgroundcolor": "rgb(17,17,17)",
                        "gridcolor": "#506784",
                        "gridwidth": 2,
                        "linecolor": "#506784",
                        "showbackground": true,
                        "ticks": "",
                        "zerolinecolor": "#C8D4E3"
                      },
                      "yaxis": {
                        "backgroundcolor": "rgb(17,17,17)",
                        "gridcolor": "#506784",
                        "gridwidth": 2,
                        "linecolor": "#506784",
                        "showbackground": true,
                        "ticks": "",
                        "zerolinecolor": "#C8D4E3"
                      },
                      "zaxis": {
                        "backgroundcolor": "rgb(17,17,17)",
                        "gridcolor": "#506784",
                        "gridwidth": 2,
                        "linecolor": "#506784",
                        "showbackground": true,
                        "ticks": "",
                        "zerolinecolor": "#C8D4E3"
                      }
                    },
                    "shapedefaults": {
                      "line": {
                        "color": "#f2f5fa"
                      }
                    },
                    "sliderdefaults": {
                      "bgcolor": "#C8D4E3",
                      "bordercolor": "rgb(17,17,17)",
                      "borderwidth": 1,
                      "tickwidth": 0
                    },
                    "ternary": {
                      "aaxis": {
                        "gridcolor": "#506784",
                        "linecolor": "#506784",
                        "ticks": ""
                      },
                      "baxis": {
                        "gridcolor": "#506784",
                        "linecolor": "#506784",
                        "ticks": ""
                      },
                      "bgcolor": "rgb(17,17,17)",
                      "caxis": {
                        "gridcolor": "#506784",
                        "linecolor": "#506784",
                        "ticks": ""
                      }
                    },
                    "title": {
                      "x": 0.05
                    },
                    "updatemenudefaults": {
                      "bgcolor": "#506784",
                      "borderwidth": 0
                    },
                    "xaxis": {
                      "automargin": true,
                      "gridcolor": "#283442",
                      "linecolor": "#506784",
                      "ticks": "",
                      "title": {
                        "standoff": 15
                      },
                      "zerolinecolor": "#283442",
                      "zerolinewidth": 2
                    },
                    "yaxis": {
                      "automargin": true,
                      "gridcolor": "#283442",
                      "linecolor": "#506784",
                      "ticks": "",
                      "title": {
                        "standoff": 15
                      },
                      "zerolinecolor": "#283442",
                      "zerolinewidth": 2
                    }
                  }
                },
                "title": {
                  "text": "Tamaño de las especies"
                },
                "treemapcolorway": [
                  "rgb(27,158,119)",
                  "rgb(217,95,2)",
                  "rgb(117,112,179)",
                  "rgb(231,41,138)",
                  "rgb(102,166,30)",
                  "rgb(230,171,2)",
                  "rgb(166,118,29)",
                  "rgb(102,102,102)"
                ]
              }
            }
          },
          "metadata": {},
          "output_type": "display_data"
        }
      ],
      "source": [
        "import plotly.express as px\n",
        "\n",
        "species = df['species'].value_counts()\n",
        "\n",
        "px.treemap(species, path=[species.index], values=species, height=700, title='Tamaño de las especies', color_discrete_sequence = px.colors.qualitative.Dark2, template= 'plotly_dark')"
      ]
    }
  ],
  "metadata": {
    "colab": {
      "provenance": []
    },
    "kernelspec": {
      "display_name": "Python 3",
      "name": "python3"
    },
    "language_info": {
      "codemirror_mode": {
        "name": "ipython",
        "version": 3
      },
      "file_extension": ".py",
      "mimetype": "text/x-python",
      "name": "python",
      "nbconvert_exporter": "python",
      "pygments_lexer": "ipython3",
      "version": "3.10.0"
    }
  },
  "nbformat": 4,
  "nbformat_minor": 0
}
